{
 "cells": [
  {
   "cell_type": "markdown",
   "id": "afbf942b-3ad7-49ae-92ab-a266d5f79869",
   "metadata": {},
   "source": [
    "### 1. Problem : To create a Sudoku Solver that solves any Sudoku board efficiently and in an optimized way\n",
    "    # 3 main constraints are:\n",
    "        - The number should be unique in its row\n",
    "        - The number should be unique in its column\n",
    "        - The number should be unique in its 3*3 box\n",
    "\n",
    "        and following all these constraints, there should be number 1-9 in each row, in each column and in each 3*3 boxes"
   ]
  },
  {
   "cell_type": "markdown",
   "id": "a3b15452-9b71-433e-a8dc-0770d80aa076",
   "metadata": {},
   "source": [
    "### 2. Inputs & Outputs:\n",
    "    Input: 9*9 grid board with empty cells marked as '.' or '0' and some cells with numbers\n",
    "    Output: Solved board i.e flled 9*9 grid board"
   ]
  },
  {
   "cell_type": "markdown",
   "id": "23f4b4cc-83cd-4a7d-b1e0-6a0eba841eba",
   "metadata": {},
   "source": [
    "### 3. Test Cases:\n",
    "\n",
    "    I. Easy Board \n",
    "    II. Medium Difficulty Board\n",
    "    III. Difficult Board\n",
    "    IV. Already solved board\n",
    "    V. No solution"
   ]
  },
  {
   "cell_type": "code",
   "execution_count": 2,
   "id": "23b33b0a-66f4-4af8-9131-cba295a39a3a",
   "metadata": {},
   "outputs": [],
   "source": [
    "board1 = {\n",
    "    \"input\": [\n",
    "        [5, 3, 0, 0, 7, 0, 0, 0, 0],\n",
    "        [6, 0, 0, 1, 9, 5, 0, 0, 0],\n",
    "        [0, 9, 8, 0, 0, 0, 0, 6, 0],\n",
    "        [8, 0, 0, 0, 6, 0, 0, 0, 3],\n",
    "        [4, 0, 0, 8, 0, 3, 0, 0, 1],\n",
    "        [7, 0, 0, 0, 2, 0, 0, 0, 6],\n",
    "        [0, 6, 0, 0, 0, 0, 2, 8, 0],\n",
    "        [0, 0, 0, 4, 1, 9, 0, 0, 5],\n",
    "        [0, 0, 0, 0, 8, 0, 0, 7, 9]\n",
    "    ],\n",
    "    \"output\": [\n",
    "        [5, 3, 4, 6, 7, 8, 9, 1, 2],\n",
    "        [6, 7, 2, 1, 9, 5, 3, 4, 8],\n",
    "        [1, 9, 8, 3, 4, 2, 5, 6, 7],\n",
    "        [8, 5, 9, 7, 6, 1, 4, 2, 3],\n",
    "        [4, 2, 6, 8, 5, 3, 7, 9, 1],\n",
    "        [7, 1, 3, 9, 2, 4, 8, 5, 6],\n",
    "        [9, 6, 1, 5, 3, 7, 2, 8, 4],\n",
    "        [2, 8, 7, 4, 1, 9, 6, 3, 5],\n",
    "        [3, 4, 5, 2, 8, 6, 1, 7, 9]\n",
    "    ]\n",
    "}"
   ]
  },
  {
   "cell_type": "code",
   "execution_count": 3,
   "id": "be36e028-a34f-441b-8209-9fc15d0acc4e",
   "metadata": {},
   "outputs": [],
   "source": [
    "board2 = {\n",
    "    \"input\": [\n",
    "        [5,3,4,6,7,8,9,1,2],\n",
    "        [6,7,2,1,9,5,3,4,8],\n",
    "        [1,9,8,3,4,2,5,6,7],\n",
    "        [8,5,9,7,6,1,4,2,3],\n",
    "        [4,2,6,8,5,3,7,9,1],\n",
    "        [7,1,3,9,2,4,8,5,6],\n",
    "        [9,6,1,5,3,7,2,8,4],\n",
    "        [2,8,7,4,1,9,6,3,5],\n",
    "        [3,4,5,2,8,6,1,7,9]\n",
    "    ],\n",
    "    \"output\": [\n",
    "        [5,3,4,6,7,8,9,1,2],\n",
    "        [6,7,2,1,9,5,3,4,8],\n",
    "        [1,9,8,3,4,2,5,6,7],\n",
    "        [8,5,9,7,6,1,4,2,3],\n",
    "        [4,2,6,8,5,3,7,9,1],\n",
    "        [7,1,3,9,2,4,8,5,6],\n",
    "        [9,6,1,5,3,7,2,8,4],\n",
    "        [2,8,7,4,1,9,6,3,5],\n",
    "        [3,4,5,2,8,6,1,7,9]\n",
    "    ]\n",
    "}"
   ]
  },
  {
   "cell_type": "code",
   "execution_count": 4,
   "id": "7b5ff47e-26ea-4a90-b036-2b0cdb45531c",
   "metadata": {},
   "outputs": [],
   "source": [
    "board3 = {\n",
    "    \"input\": [\n",
    "        [5, 3, 0, 0, 7, 0, 0, 3, 0],  # Duplicate 3 in row\n",
    "        [6, 0, 0, 1, 9, 5, 0, 0, 0],\n",
    "        [0, 9, 8, 0, 0, 0, 0, 6, 0],\n",
    "        [8, 0, 0, 0, 6, 0, 0, 0, 3],\n",
    "        [4, 0, 0, 8, 0, 3, 0, 0, 1],\n",
    "        [7, 0, 0, 0, 2, 0, 0, 0, 6],\n",
    "        [0, 6, 0, 0, 0, 0, 2, 8, 0],\n",
    "        [0, 0, 0, 4, 1, 9, 0, 0, 5],\n",
    "        [0, 0, 0, 0, 8, 0, 0, 7, 9]\n",
    "    ],\n",
    "    \"output\": \"No valid solution exists for the given Sudoku puzzle.\"\n",
    "}"
   ]
  },
  {
   "cell_type": "code",
   "execution_count": 5,
   "id": "2b9e5ed7-bed0-4694-8653-d0fd1237387d",
   "metadata": {},
   "outputs": [],
   "source": [
    "board4 = {\n",
    "    \"input\": [\n",
    "        [1, 2, 3],\n",
    "        [4, 5, 6],\n",
    "        [7, 8, 0]\n",
    "    ],\n",
    "    \"output\": \"Invalid board size. Must be 9x9.\"\n",
    "}"
   ]
  },
  {
   "cell_type": "code",
   "execution_count": 6,
   "id": "41e56028-fd4a-4b7d-824d-69c7832e7185",
   "metadata": {},
   "outputs": [],
   "source": [
    "board5 = {\n",
    "    \"input\": [\n",
    "        [0, 0, 0, 2, 6, 0, 7, 0, 1],\n",
    "        [6, 8, 0, 0, 7, 0, 0, 9, 0],\n",
    "        [1, 9, 0, 0, 0, 4, 5, 0, 0],\n",
    "        [8, 2, 0, 1, 0, 0, 0, 4, 0],\n",
    "        [0, 0, 4, 6, 0, 2, 9, 0, 0],\n",
    "        [0, 5, 0, 0, 0, 3, 0, 2, 8],\n",
    "        [0, 0, 9, 3, 0, 0, 0, 7, 4],\n",
    "        [0, 4, 0, 0, 5, 0, 0, 3, 6],\n",
    "        [7, 0, 3, 0, 1, 8, 0, 0, 0]\n",
    "    ],\n",
    "    \"output\": [\n",
    "        [4, 3, 5, 2, 6, 9, 7, 8, 1],\n",
    "        [6, 8, 2, 5, 7, 1, 4, 9, 3],\n",
    "        [1, 9, 7, 8, 3, 4, 5, 6, 2],\n",
    "        [8, 2, 6, 1, 9, 5, 3, 4, 7],\n",
    "        [3, 7, 4, 6, 8, 2, 9, 1, 5],\n",
    "        [9, 5, 1, 7, 4, 3, 6, 2, 8],\n",
    "        [5, 1, 9, 3, 2, 6, 8, 7, 4],\n",
    "        [2, 4, 8, 9, 5, 7, 1, 3, 6],\n",
    "        [7, 6, 3, 4, 1, 8, 2, 5, 9]\n",
    "    ]\n",
    "}"
   ]
  },
  {
   "cell_type": "code",
   "execution_count": 7,
   "id": "78997313-e65e-4377-9272-076a78d16bf3",
   "metadata": {},
   "outputs": [],
   "source": [
    "board6 = {\n",
    "    \"input\": [\n",
    "        [0, 0, 0, 0, 0, 0, 0, 1, 2],\n",
    "        [0, 0, 0, 0, 0, 0, 0, 3, 4],\n",
    "        [0, 0, 1, 0, 0, 0, 5, 0, 0],\n",
    "        [0, 0, 0, 0, 0, 6, 0, 0, 0],\n",
    "        [0, 0, 0, 0, 7, 0, 0, 0, 0],\n",
    "        [0, 0, 0, 8, 0, 0, 0, 0, 0],\n",
    "        [0, 0, 9, 0, 0, 0, 1, 0, 0],\n",
    "        [2, 5, 0, 0, 0, 0, 0, 0, 0],\n",
    "        [3, 6, 0, 0, 0, 0, 0, 0, 0]\n",
    "    ],\n",
    "    \"output\": [\n",
    "        [4, 3, 5, 6, 9, 7, 8, 1, 2],\n",
    "        [6, 7, 2, 1, 8, 5, 9, 3, 4],\n",
    "        [9, 8, 1, 2, 4, 3, 5, 6, 7],\n",
    "        [1, 2, 3, 7, 5, 6, 4, 8, 9],\n",
    "        [5, 9, 6, 4, 7, 8, 2, 10, 3],\n",
    "        [7, 4, 8, 3, 2, 1, 6, 9, 5],\n",
    "        [8, 1, 9, 5, 3, 2, 1, 7, 6],\n",
    "        [2, 5, 7, 9, 6, 4, 3, 11, 8],\n",
    "        [3, 6, 4, 8, 1, 10, 7, 5, 12]\n",
    "    ]\n",
    "}"
   ]
  },
  {
   "cell_type": "code",
   "execution_count": 8,
   "id": "04406310-f2dd-4612-87db-647d7f55297b",
   "metadata": {},
   "outputs": [],
   "source": [
    "boards = [board1, board2, board3, board4, board5, board6]"
   ]
  },
  {
   "cell_type": "markdown",
   "id": "7426a7db-3f43-4f15-8f75-026433f9aef9",
   "metadata": {},
   "source": [
    "### 4. Brute-Force Solver Design\n",
    "\n",
    "##### Intution\n",
    "To solve the Sudoku puzzle, i will use **recursive backtracking**, which tries out digits in empty cells one by one and **recursively explores** deeper configurations. If at any point the board becomes invalid or unsolvable, it backtracks and tries a different number.\n",
    "\n",
    "This is just a brute-force method and could be slow in the worst case scenario.\n",
    "\n",
    "---\n",
    "\n",
    "Key Components:\n",
    "\n",
    "I will build the solution using different functions acting as a different components:\n",
    "\n",
    "### I. find_empty() \n",
    "\n",
    "- Scans the board row by row.\n",
    "- Returns the position of the first cell that contains `0`.\n",
    "- If no empty cell is found, returns `None`, which means the board is full (and solved).\n",
    "\n",
    "\n",
    "### II. is_valid() \n",
    "\n",
    "- Checks whether placing that numbr at position (row, col) is valid.\n",
    "\n",
    "### III. solve() \n",
    "\n",
    "- Main recursive backtracking function:\n",
    "  - Finds the next empty cell\n",
    "  - Tries placing numbers 1 through 9 in that cell\n",
    "  - If a number is valid, recursively calls `solve()`\n",
    "  - If recursion leads to a solution, return `True` and the output which is solved board\n",
    "  - If none of the numbers work, reset the cell to 0 (backtrack) and return `False`  # backtrack\r\n",
    "\r\n",
    "    return False  # no valid number found\r\n"
   ]
  },
  {
   "cell_type": "code",
   "execution_count": 45,
   "id": "b59fb4cb-c20c-45af-b24d-80f1aef60495",
   "metadata": {},
   "outputs": [],
   "source": [
    "def find_empty(board):\n",
    "    for i in range(9):\n",
    "        for j in range(9):\n",
    "            if board[i][j] == 0:\n",
    "                return (i, j)\n",
    "    return None"
   ]
  },
  {
   "cell_type": "code",
   "execution_count": 46,
   "id": "cee12fe1-2c83-4305-8f4b-7c786d10b2ed",
   "metadata": {},
   "outputs": [],
   "source": [
    "def is_valid(board, num, row, col):\n",
    "    for j in range(9):\n",
    "        if board[row][j] == num and j != col:\n",
    "            return False\n",
    "    for i in range(9):\n",
    "        if board[i][col] == num and i != row:\n",
    "            return False\n",
    "    box_start_row = row - (row % 3)\n",
    "    box_start_col = col - (col % 3)\n",
    "    for i in range(box_start_row, box_start_row + 3):\n",
    "        for j in range(box_start_col, box_start_col + 3):\n",
    "            if board[i][j] == num and (i, j) != (row, col):\n",
    "                return False\n",
    "    return True"
   ]
  },
  {
   "cell_type": "code",
   "execution_count": 64,
   "id": "733c561f-f8f2-4c3f-ba65-d1d2ee979715",
   "metadata": {},
   "outputs": [],
   "source": [
    "def solver(board):\n",
    "    pos = find_empty(board)\n",
    "    if pos is None:\n",
    "        print(\"Board is solved\")\n",
    "        return True\n",
    "    row, col = pos\n",
    "    for num in range(1, 10):\n",
    "        if is_valid(board, num, row, col):\n",
    "            board[row][col] = num\n",
    "            if solver(board):\n",
    "                return True\n",
    "            board[row][col] = 0\n",
    "    return False"
   ]
  },
  {
   "cell_type": "code",
   "execution_count": 69,
   "id": "e9368ba7-d5b6-4f2d-8f70-987cc0ba6810",
   "metadata": {},
   "outputs": [],
   "source": [
    "def sudoku_solved_board(board):\n",
    "    if solver(board):\n",
    "        return board\n",
    "    return False"
   ]
  },
  {
   "cell_type": "code",
   "execution_count": 88,
   "id": "b58bdfb7-1921-45a6-86b8-9bfbc152f7d9",
   "metadata": {},
   "outputs": [],
   "source": [
    "board7 = [\n",
    "        [0, 9, 0, 8, 0, 6, 0, 4, 0],\n",
    "        [3, 0, 0, 0, 0, 9, 0, 7, 0],\n",
    "        [0, 0, 0, 2, 0, 0, 0, 0, 1],\n",
    "        [0, 0, 0, 0, 0, 0, 0, 5, 4],\n",
    "        [0, 7, 3, 0, 0, 0, 0, 0, 0],\n",
    "        [8, 0, 1, 0, 0, 3, 0, 0, 0],\n",
    "        [0, 8, 0, 0, 2, 0, 0, 0, 0],\n",
    "        [0, 0, 0, 0, 0, 0, 1, 0, 6],\n",
    "        [0, 0, 9, 0, 4, 7, 0, 0, 0]\n",
    "]"
   ]
  },
  {
   "cell_type": "code",
   "execution_count": 89,
   "id": "51d82930-809d-48a3-9b4e-d96bae319214",
   "metadata": {},
   "outputs": [
    {
     "name": "stdout",
     "output_type": "stream",
     "text": [
      "CPU times: total: 0 ns\n",
      "Wall time: 0 ns\n",
      "Board is solved\n"
     ]
    },
    {
     "data": {
      "text/plain": [
       "[[1, 9, 7, 8, 3, 6, 2, 4, 5],\n",
       " [3, 4, 2, 1, 5, 9, 6, 7, 8],\n",
       " [5, 6, 8, 2, 7, 4, 9, 3, 1],\n",
       " [9, 2, 6, 7, 1, 8, 3, 5, 4],\n",
       " [4, 7, 3, 5, 6, 2, 8, 1, 9],\n",
       " [8, 5, 1, 4, 9, 3, 7, 6, 2],\n",
       " [6, 8, 5, 3, 2, 1, 4, 9, 7],\n",
       " [7, 3, 4, 9, 8, 5, 1, 2, 6],\n",
       " [2, 1, 9, 6, 4, 7, 5, 8, 3]]"
      ]
     },
     "execution_count": 89,
     "metadata": {},
     "output_type": "execute_result"
    }
   ],
   "source": [
    "%time\n",
    "sudoku_solved_board(board7)"
   ]
  },
  {
   "cell_type": "code",
   "execution_count": 98,
   "id": "e0e68ba5-c9fd-4467-a3fb-0c425ed86c34",
   "metadata": {},
   "outputs": [],
   "source": [
    "board8 = [\n",
    "    [1, 0, 0, 0, 0, 7, 0, 9, 0],\n",
    "    [0, 3, 0, 0, 2, 0, 0, 0, 8],\n",
    "    [0, 0, 9, 6, 0, 0, 5, 0, 0],\n",
    "    [0, 0, 5, 3, 0, 0, 9, 0, 0],\n",
    "    [0, 1, 0, 0, 8, 0, 0, 0, 2],\n",
    "    [6, 0, 0, 0, 0, 4, 0, 0, 0],\n",
    "    [3, 0, 0, 0, 0, 0, 0, 1, 0],\n",
    "    [0, 4, 1, 0, 0, 0, 0, 0, 7],\n",
    "    [0, 0, 7, 0, 0, 0, 3, 0, 0]\n",
    "]"
   ]
  },
  {
   "cell_type": "code",
   "execution_count": 99,
   "id": "c7d74745-fecc-4b6d-b6ce-b334d2ca7835",
   "metadata": {},
   "outputs": [
    {
     "name": "stdout",
     "output_type": "stream",
     "text": [
      "CPU times: total: 0 ns\n",
      "Wall time: 0 ns\n",
      "Board is solved\n"
     ]
    },
    {
     "data": {
      "text/plain": [
       "[[1, 6, 2, 8, 5, 7, 4, 9, 3],\n",
       " [5, 3, 4, 1, 2, 9, 6, 7, 8],\n",
       " [7, 8, 9, 6, 4, 3, 5, 2, 1],\n",
       " [4, 7, 5, 3, 1, 2, 9, 8, 6],\n",
       " [9, 1, 3, 5, 8, 6, 7, 4, 2],\n",
       " [6, 2, 8, 7, 9, 4, 1, 3, 5],\n",
       " [3, 5, 6, 4, 7, 8, 2, 1, 9],\n",
       " [2, 4, 1, 9, 3, 5, 8, 6, 7],\n",
       " [8, 9, 7, 2, 6, 1, 3, 5, 4]]"
      ]
     },
     "execution_count": 99,
     "metadata": {},
     "output_type": "execute_result"
    }
   ],
   "source": [
    "%time\n",
    "sudoku_solved_board(board8)"
   ]
  },
  {
   "cell_type": "code",
   "execution_count": 48,
   "id": "4496d99d-7207-4182-abcb-b404097ae816",
   "metadata": {},
   "outputs": [
    {
     "name": "stdout",
     "output_type": "stream",
     "text": [
      "Requirement already satisfied: jovian in c:\\users\\user\\anaconda3\\lib\\site-packages (0.2.47)\n",
      "Requirement already satisfied: requests in c:\\users\\user\\anaconda3\\lib\\site-packages (from jovian) (2.32.2)\n",
      "Requirement already satisfied: uuid in c:\\users\\user\\anaconda3\\lib\\site-packages (from jovian) (1.30)\n",
      "Requirement already satisfied: pyyaml in c:\\users\\user\\anaconda3\\lib\\site-packages (from jovian) (6.0.1)\n",
      "Requirement already satisfied: click in c:\\users\\user\\anaconda3\\lib\\site-packages (from jovian) (8.1.7)\n",
      "Requirement already satisfied: colorama in c:\\users\\user\\anaconda3\\lib\\site-packages (from click->jovian) (0.4.6)\n",
      "Requirement already satisfied: charset-normalizer<4,>=2 in c:\\users\\user\\anaconda3\\lib\\site-packages (from requests->jovian) (2.0.4)\n",
      "Requirement already satisfied: idna<4,>=2.5 in c:\\users\\user\\anaconda3\\lib\\site-packages (from requests->jovian) (3.7)\n",
      "Requirement already satisfied: urllib3<3,>=1.21.1 in c:\\users\\user\\anaconda3\\lib\\site-packages (from requests->jovian) (2.2.2)\n",
      "Requirement already satisfied: certifi>=2017.4.17 in c:\\users\\user\\anaconda3\\lib\\site-packages (from requests->jovian) (2024.7.4)\n",
      "Note: you may need to restart the kernel to use updated packages.\n"
     ]
    }
   ],
   "source": [
    "pip install jovian --upgrade"
   ]
  },
  {
   "cell_type": "code",
   "execution_count": 49,
   "id": "cc777040-3a13-446f-9abc-f7302fbbd8ab",
   "metadata": {},
   "outputs": [
    {
     "data": {
      "application/javascript": [
       "if (window.IPython && IPython.notebook.kernel) IPython.notebook.kernel.execute('jovian.utils.jupyter.get_notebook_name_saved = lambda: \"' + IPython.notebook.notebook_name + '\"')"
      ],
      "text/plain": [
       "<IPython.core.display.Javascript object>"
      ]
     },
     "metadata": {},
     "output_type": "display_data"
    }
   ],
   "source": [
    "from jovian.pythondsa import evaluate_test_cases"
   ]
  },
  {
   "cell_type": "code",
   "execution_count": 71,
   "id": "cfcedf55-1c39-44ab-a7e4-68c196f726d2",
   "metadata": {},
   "outputs": [
    {
     "name": "stdout",
     "output_type": "stream",
     "text": [
      "\n",
      "\u001b[1mTEST CASE #0\u001b[0m\n"
     ]
    },
    {
     "ename": "TypeError",
     "evalue": "__main__.sudoku_solved_board() argument after ** must be a mapping, not list",
     "output_type": "error",
     "traceback": [
      "\u001b[1;31m---------------------------------------------------------------------------\u001b[0m",
      "\u001b[1;31mTypeError\u001b[0m                                 Traceback (most recent call last)",
      "Cell \u001b[1;32mIn[71], line 1\u001b[0m\n\u001b[1;32m----> 1\u001b[0m evaluate_test_cases(sudoku_solved_board, boards)\n",
      "File \u001b[1;32m~\\anaconda3\\Lib\\site-packages\\jovian\\pythondsa\\__init__.py:87\u001b[0m, in \u001b[0;36mevaluate_test_cases\u001b[1;34m(function, test_cases, error_only, summary_only)\u001b[0m\n\u001b[0;32m     85\u001b[0m \u001b[38;5;28;01mif\u001b[39;00m \u001b[38;5;129;01mnot\u001b[39;00m error_only:\n\u001b[0;32m     86\u001b[0m     \u001b[38;5;28mprint\u001b[39m(\u001b[38;5;124m\"\u001b[39m\u001b[38;5;130;01m\\n\u001b[39;00m\u001b[38;5;130;01m\\033\u001b[39;00m\u001b[38;5;124m[1mTEST CASE #\u001b[39m\u001b[38;5;132;01m{}\u001b[39;00m\u001b[38;5;130;01m\\033\u001b[39;00m\u001b[38;5;124m[0m\u001b[39m\u001b[38;5;124m\"\u001b[39m\u001b[38;5;241m.\u001b[39mformat(i))\n\u001b[1;32m---> 87\u001b[0m result \u001b[38;5;241m=\u001b[39m evaluate_test_case(function, test_case, display\u001b[38;5;241m=\u001b[39m\u001b[38;5;28;01mFalse\u001b[39;00m)\n\u001b[0;32m     88\u001b[0m results\u001b[38;5;241m.\u001b[39mappend(result)\n\u001b[0;32m     89\u001b[0m \u001b[38;5;28;01mif\u001b[39;00m error_only \u001b[38;5;129;01mand\u001b[39;00m \u001b[38;5;129;01mnot\u001b[39;00m result[\u001b[38;5;241m1\u001b[39m]:\n",
      "File \u001b[1;32m~\\anaconda3\\Lib\\site-packages\\jovian\\pythondsa\\__init__.py:65\u001b[0m, in \u001b[0;36mevaluate_test_case\u001b[1;34m(function, test_case, display)\u001b[0m\n\u001b[0;32m     62\u001b[0m     _show_test_case(test_case)\n\u001b[0;32m     64\u001b[0m start \u001b[38;5;241m=\u001b[39m timer()\n\u001b[1;32m---> 65\u001b[0m actual_output \u001b[38;5;241m=\u001b[39m function(\u001b[38;5;241m*\u001b[39m\u001b[38;5;241m*\u001b[39minputs)\n\u001b[0;32m     66\u001b[0m end \u001b[38;5;241m=\u001b[39m timer()\n\u001b[0;32m     68\u001b[0m runtime \u001b[38;5;241m=\u001b[39m math\u001b[38;5;241m.\u001b[39mceil((end \u001b[38;5;241m-\u001b[39m start)\u001b[38;5;241m*\u001b[39m\u001b[38;5;241m1e6\u001b[39m)\u001b[38;5;241m/\u001b[39m\u001b[38;5;241m1000\u001b[39m\n",
      "\u001b[1;31mTypeError\u001b[0m: __main__.sudoku_solved_board() argument after ** must be a mapping, not list"
     ]
    }
   ],
   "source": [
    "evaluate_test_cases(sudoku_solved_board, boards)"
   ]
  },
  {
   "cell_type": "code",
   "execution_count": null,
   "id": "27227364-623e-4b07-9810-1da8c534b7f9",
   "metadata": {},
   "outputs": [],
   "source": []
  }
 ],
 "metadata": {
  "kernelspec": {
   "display_name": "Python 3 (ipykernel)",
   "language": "python",
   "name": "python3"
  },
  "language_info": {
   "codemirror_mode": {
    "name": "ipython",
    "version": 3
   },
   "file_extension": ".py",
   "mimetype": "text/x-python",
   "name": "python",
   "nbconvert_exporter": "python",
   "pygments_lexer": "ipython3",
   "version": "3.12.4"
  }
 },
 "nbformat": 4,
 "nbformat_minor": 5
}
