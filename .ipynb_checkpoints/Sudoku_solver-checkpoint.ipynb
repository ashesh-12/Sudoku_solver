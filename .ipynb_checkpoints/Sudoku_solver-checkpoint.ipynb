{
 "cells": [
  {
   "cell_type": "markdown",
   "id": "afbf942b-3ad7-49ae-92ab-a266d5f79869",
   "metadata": {},
   "source": [
    "### 1. Problem : To create a Sudoku Solver that solves any Sudoku board efficiently and in an optimized way\n",
    "    # 3 main constraints are:\n",
    "        - The number should be unique in its row\n",
    "        - The number should be unique in its column\n",
    "        - The number should be unique in its 3*3 box\n",
    "\n",
    "        and following all these constraints, there should be number 1-9 in each row, in each column and in each 3*3 boxes"
   ]
  },
  {
   "cell_type": "markdown",
   "id": "a3b15452-9b71-433e-a8dc-0770d80aa076",
   "metadata": {},
   "source": [
    "### 2. Inputs & Outputs:\n",
    "    Input: 9*9 grid board with empty cells marked as '.' or '0' and some cells with numbers\n",
    "    Output: Solved board i.e flled 9*9 grid board"
   ]
  },
  {
   "cell_type": "markdown",
   "id": "23f4b4cc-83cd-4a7d-b1e0-6a0eba841eba",
   "metadata": {},
   "source": [
    "### 3. Test Cases:\n",
    "\n",
    "    I. Easy Board \n",
    "    II. Medium Difficulty Board\n",
    "    III. Difficult Board\n",
    "    IV. Already solved board\n",
    "    V. No solution"
   ]
  },
  {
   "cell_type": "code",
   "execution_count": 11,
   "id": "23b33b0a-66f4-4af8-9131-cba295a39a3a",
   "metadata": {},
   "outputs": [],
   "source": [
    "board1 = {\n",
    "    \"input\": [\n",
    "        [5, 3, 0, 0, 7, 0, 0, 0, 0],\n",
    "        [6, 0, 0, 1, 9, 5, 0, 0, 0],\n",
    "        [0, 9, 8, 0, 0, 0, 0, 6, 0],\n",
    "        [8, 0, 0, 0, 6, 0, 0, 0, 3],\n",
    "        [4, 0, 0, 8, 0, 3, 0, 0, 1],\n",
    "        [7, 0, 0, 0, 2, 0, 0, 0, 6],\n",
    "        [0, 6, 0, 0, 0, 0, 2, 8, 0],\n",
    "        [0, 0, 0, 4, 1, 9, 0, 0, 5],\n",
    "        [0, 0, 0, 0, 8, 0, 0, 7, 9]\n",
    "    ],\n",
    "    \"output\": [\n",
    "        [5, 3, 4, 6, 7, 8, 9, 1, 2],\n",
    "        [6, 7, 2, 1, 9, 5, 3, 4, 8],\n",
    "        [1, 9, 8, 3, 4, 2, 5, 6, 7],\n",
    "        [8, 5, 9, 7, 6, 1, 4, 2, 3],\n",
    "        [4, 2, 6, 8, 5, 3, 7, 9, 1],\n",
    "        [7, 1, 3, 9, 2, 4, 8, 5, 6],\n",
    "        [9, 6, 1, 5, 3, 7, 2, 8, 4],\n",
    "        [2, 8, 7, 4, 1, 9, 6, 3, 5],\n",
    "        [3, 4, 5, 2, 8, 6, 1, 7, 9]\n",
    "    ]\n",
    "}"
   ]
  },
  {
   "cell_type": "code",
   "execution_count": 2,
   "id": "be36e028-a34f-441b-8209-9fc15d0acc4e",
   "metadata": {},
   "outputs": [],
   "source": [
    "board2 = {\n",
    "    \"input\": [\n",
    "        [5,3,4,6,7,8,9,1,2],\n",
    "        [6,7,2,1,9,5,3,4,8],\n",
    "        [1,9,8,3,4,2,5,6,7],\n",
    "        [8,5,9,7,6,1,4,2,3],\n",
    "        [4,2,6,8,5,3,7,9,1],\n",
    "        [7,1,3,9,2,4,8,5,6],\n",
    "        [9,6,1,5,3,7,2,8,4],\n",
    "        [2,8,7,4,1,9,6,3,5],\n",
    "        [3,4,5,2,8,6,1,7,9]\n",
    "    ],\n",
    "    \"output\": [\n",
    "        [5,3,4,6,7,8,9,1,2],\n",
    "        [6,7,2,1,9,5,3,4,8],\n",
    "        [1,9,8,3,4,2,5,6,7],\n",
    "        [8,5,9,7,6,1,4,2,3],\n",
    "        [4,2,6,8,5,3,7,9,1],\n",
    "        [7,1,3,9,2,4,8,5,6],\n",
    "        [9,6,1,5,3,7,2,8,4],\n",
    "        [2,8,7,4,1,9,6,3,5],\n",
    "        [3,4,5,2,8,6,1,7,9]\n",
    "    ]\n",
    "}"
   ]
  },
  {
   "cell_type": "code",
   "execution_count": 3,
   "id": "7b5ff47e-26ea-4a90-b036-2b0cdb45531c",
   "metadata": {},
   "outputs": [],
   "source": [
    "board3 = {\n",
    "    \"input\": [\n",
    "        [5, 3, 0, 0, 7, 0, 0, 3, 0],  # Duplicate 3 in row\n",
    "        [6, 0, 0, 1, 9, 5, 0, 0, 0],\n",
    "        [0, 9, 8, 0, 0, 0, 0, 6, 0],\n",
    "        [8, 0, 0, 0, 6, 0, 0, 0, 3],\n",
    "        [4, 0, 0, 8, 0, 3, 0, 0, 1],\n",
    "        [7, 0, 0, 0, 2, 0, 0, 0, 6],\n",
    "        [0, 6, 0, 0, 0, 0, 2, 8, 0],\n",
    "        [0, 0, 0, 4, 1, 9, 0, 0, 5],\n",
    "        [0, 0, 0, 0, 8, 0, 0, 7, 9]\n",
    "    ],\n",
    "    \"output\": \"No valid solution exists for the given Sudoku puzzle.\"\n",
    "}"
   ]
  },
  {
   "cell_type": "code",
   "execution_count": 6,
   "id": "2b9e5ed7-bed0-4694-8653-d0fd1237387d",
   "metadata": {},
   "outputs": [],
   "source": [
    "board4 = {\n",
    "    \"input\": [\n",
    "        [1, 2, 3],\n",
    "        [4, 5, 6],\n",
    "        [7, 8, 0]\n",
    "    ],\n",
    "    \"output\": \"Invalid board size. Must be 9x9.\"\n",
    "}"
   ]
  },
  {
   "cell_type": "code",
   "execution_count": 9,
   "id": "41e56028-fd4a-4b7d-824d-69c7832e7185",
   "metadata": {},
   "outputs": [],
   "source": [
    "board5 = {\n",
    "    \"input\": [\n",
    "        [0, 0, 0, 2, 6, 0, 7, 0, 1],\n",
    "        [6, 8, 0, 0, 7, 0, 0, 9, 0],\n",
    "        [1, 9, 0, 0, 0, 4, 5, 0, 0],\n",
    "        [8, 2, 0, 1, 0, 0, 0, 4, 0],\n",
    "        [0, 0, 4, 6, 0, 2, 9, 0, 0],\n",
    "        [0, 5, 0, 0, 0, 3, 0, 2, 8],\n",
    "        [0, 0, 9, 3, 0, 0, 0, 7, 4],\n",
    "        [0, 4, 0, 0, 5, 0, 0, 3, 6],\n",
    "        [7, 0, 3, 0, 1, 8, 0, 0, 0]\n",
    "    ],\n",
    "    \"output\": [\n",
    "        [4, 3, 5, 2, 6, 9, 7, 8, 1],\n",
    "        [6, 8, 2, 5, 7, 1, 4, 9, 3],\n",
    "        [1, 9, 7, 8, 3, 4, 5, 6, 2],\n",
    "        [8, 2, 6, 1, 9, 5, 3, 4, 7],\n",
    "        [3, 7, 4, 6, 8, 2, 9, 1, 5],\n",
    "        [9, 5, 1, 7, 4, 3, 6, 2, 8],\n",
    "        [5, 1, 9, 3, 2, 6, 8, 7, 4],\n",
    "        [2, 4, 8, 9, 5, 7, 1, 3, 6],\n",
    "        [7, 6, 3, 4, 1, 8, 2, 5, 9]\n",
    "    ]\n",
    "}"
   ]
  },
  {
   "cell_type": "code",
   "execution_count": 10,
   "id": "78997313-e65e-4377-9272-076a78d16bf3",
   "metadata": {},
   "outputs": [],
   "source": [
    "board6 = {\n",
    "    \"input\": [\n",
    "        [0, 0, 0, 0, 0, 0, 0, 1, 2],\n",
    "        [0, 0, 0, 0, 0, 0, 0, 3, 4],\n",
    "        [0, 0, 1, 0, 0, 0, 5, 0, 0],\n",
    "        [0, 0, 0, 0, 0, 6, 0, 0, 0],\n",
    "        [0, 0, 0, 0, 7, 0, 0, 0, 0],\n",
    "        [0, 0, 0, 8, 0, 0, 0, 0, 0],\n",
    "        [0, 0, 9, 0, 0, 0, 1, 0, 0],\n",
    "        [2, 5, 0, 0, 0, 0, 0, 0, 0],\n",
    "        [3, 6, 0, 0, 0, 0, 0, 0, 0]\n",
    "    ],\n",
    "    \"output\": [\n",
    "        [4, 3, 5, 6, 9, 7, 8, 1, 2],\n",
    "        [6, 7, 2, 1, 8, 5, 9, 3, 4],\n",
    "        [9, 8, 1, 2, 4, 3, 5, 6, 7],\n",
    "        [1, 2, 3, 7, 5, 6, 4, 8, 9],\n",
    "        [5, 9, 6, 4, 7, 8, 2, 10, 3],\n",
    "        [7, 4, 8, 3, 2, 1, 6, 9, 5],\n",
    "        [8, 1, 9, 5, 3, 2, 1, 7, 6],\n",
    "        [2, 5, 7, 9, 6, 4, 3, 11, 8],\n",
    "        [3, 6, 4, 8, 1, 10, 7, 5, 12]\n",
    "    ]\n",
    "}"
   ]
  },
  {
   "cell_type": "code",
   "execution_count": 12,
   "id": "04406310-f2dd-4612-87db-647d7f55297b",
   "metadata": {},
   "outputs": [],
   "source": [
    "boards = [board1, board2, board3, board4, board5, board6]"
   ]
  },
  {
   "cell_type": "markdown",
   "id": "7426a7db-3f43-4f15-8f75-026433f9aef9",
   "metadata": {},
   "source": [
    "### 4. Brute-Force Solver Design\n",
    "\n",
    "##### Intution\n",
    "To solve the Sudoku puzzle, i will use **recursive backtracking**, which tries out digits in empty cells one by one and **recursively explores** deeper configurations. If at any point the board becomes invalid or unsolvable, it backtracks and tries a different number.\n",
    "\n",
    "This is just a brute-force method and could be slow in the worst case scenario.\n",
    "\n",
    "---\n",
    "\n",
    "Key Components:\n",
    "\n",
    "I will build the solution using different functions acting as a different components:\n",
    "\n",
    "### I. find_empty() \n",
    "\n",
    "- Scans the board row by row.\n",
    "- Returns the position of the first cell that contains `0`.\n",
    "- If no empty cell is found, returns `None`, which means the board is full (and solved).\n",
    "\n",
    "\n",
    "### II. is_valid() \n",
    "\n",
    "- Checks whether placing that numbr at position (row, col) is valid.\n",
    "\n",
    "### III. solve() \n",
    "\n",
    "- Main recursive backtracking function:\n",
    "  - Finds the next empty cell\n",
    "  - Tries placing numbers 1 through 9 in that cell\n",
    "  - If a number is valid, recursively calls `solve()`\n",
    "  - If recursion leads to a solution, return `True` and the output which is solved board\n",
    "  - If none of the numbers work, reset the cell to 0 (backtrack) and return `False`  # backtrack\r\n",
    "\r\n",
    "    return False  # no valid number found\r\n"
   ]
  },
  {
   "cell_type": "code",
   "execution_count": null,
   "id": "b59fb4cb-c20c-45af-b24d-80f1aef60495",
   "metadata": {},
   "outputs": [],
   "source": []
  }
 ],
 "metadata": {
  "kernelspec": {
   "display_name": "Python 3 (ipykernel)",
   "language": "python",
   "name": "python3"
  },
  "language_info": {
   "codemirror_mode": {
    "name": "ipython",
    "version": 3
   },
   "file_extension": ".py",
   "mimetype": "text/x-python",
   "name": "python",
   "nbconvert_exporter": "python",
   "pygments_lexer": "ipython3",
   "version": "3.12.4"
  }
 },
 "nbformat": 4,
 "nbformat_minor": 5
}
