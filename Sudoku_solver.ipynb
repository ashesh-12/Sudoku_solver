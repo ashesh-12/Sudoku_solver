{
 "cells": [
  {
   "cell_type": "markdown",
   "id": "be6ab363-680a-4cab-bd15-fb74d5df80b0",
   "metadata": {},
   "source": [
    "# Sudoku Solver"
   ]
  },
  {
   "cell_type": "markdown",
   "id": "afbf942b-3ad7-49ae-92ab-a266d5f79869",
   "metadata": {},
   "source": [
    "### 1. Problem : To create a Sudoku Solver that solves any Sudoku board efficiently and in an optimized way\n",
    "    # 3 main constraints are:\n",
    "        - The number should be unique in its row\n",
    "        - The number should be unique in its column\n",
    "        - The number should be unique in its 3*3 box\n",
    "\n",
    "        and following all these constraints, there should be number 1-9 in each row, in each column and in each 3*3 boxes"
   ]
  },
  {
   "cell_type": "markdown",
   "id": "a3b15452-9b71-433e-a8dc-0770d80aa076",
   "metadata": {},
   "source": [
    "### 2. Inputs & Outputs:\n",
    "    Input: 9*9 grid board with empty cells marked as '.' or '0' and some cells with numbers\n",
    "    Output: Solved board i.e flled 9*9 grid board"
   ]
  },
  {
   "cell_type": "markdown",
   "id": "23f4b4cc-83cd-4a7d-b1e0-6a0eba841eba",
   "metadata": {},
   "source": [
    "### 3. Test Cases:\n",
    "\n",
    "    I. Easy Board \n",
    "    II. Medium Difficulty Board\n",
    "    III. Difficult Board\n",
    "    IV. Already solved board\n",
    "    V. No solution"
   ]
  },
  {
   "cell_type": "code",
   "execution_count": 2,
   "id": "23b33b0a-66f4-4af8-9131-cba295a39a3a",
   "metadata": {},
   "outputs": [],
   "source": [
    "board1 = {\n",
    "    \"input\": [\n",
    "        [5, 3, 0, 0, 7, 0, 0, 0, 0],\n",
    "        [6, 0, 0, 1, 9, 5, 0, 0, 0],\n",
    "        [0, 9, 8, 0, 0, 0, 0, 6, 0],\n",
    "        [8, 0, 0, 0, 6, 0, 0, 0, 3],\n",
    "        [4, 0, 0, 8, 0, 3, 0, 0, 1],\n",
    "        [7, 0, 0, 0, 2, 0, 0, 0, 6],\n",
    "        [0, 6, 0, 0, 0, 0, 2, 8, 0],\n",
    "        [0, 0, 0, 4, 1, 9, 0, 0, 5],\n",
    "        [0, 0, 0, 0, 8, 0, 0, 7, 9]\n",
    "    ],\n",
    "    \"output\": [\n",
    "        [5, 3, 4, 6, 7, 8, 9, 1, 2],\n",
    "        [6, 7, 2, 1, 9, 5, 3, 4, 8],\n",
    "        [1, 9, 8, 3, 4, 2, 5, 6, 7],\n",
    "        [8, 5, 9, 7, 6, 1, 4, 2, 3],\n",
    "        [4, 2, 6, 8, 5, 3, 7, 9, 1],\n",
    "        [7, 1, 3, 9, 2, 4, 8, 5, 6],\n",
    "        [9, 6, 1, 5, 3, 7, 2, 8, 4],\n",
    "        [2, 8, 7, 4, 1, 9, 6, 3, 5],\n",
    "        [3, 4, 5, 2, 8, 6, 1, 7, 9]\n",
    "    ]\n",
    "}"
   ]
  },
  {
   "cell_type": "code",
   "execution_count": 3,
   "id": "be36e028-a34f-441b-8209-9fc15d0acc4e",
   "metadata": {},
   "outputs": [],
   "source": [
    "board2 = {\n",
    "    \"input\": [\n",
    "        [5,3,4,6,7,8,9,1,2],\n",
    "        [6,7,2,1,9,5,3,4,8],\n",
    "        [1,9,8,3,4,2,5,6,7],\n",
    "        [8,5,9,7,6,1,4,2,3],\n",
    "        [4,2,6,8,5,3,7,9,1],\n",
    "        [7,1,3,9,2,4,8,5,6],\n",
    "        [9,6,1,5,3,7,2,8,4],\n",
    "        [2,8,7,4,1,9,6,3,5],\n",
    "        [3,4,5,2,8,6,1,7,9]\n",
    "    ],\n",
    "    \"output\": [\n",
    "        [5,3,4,6,7,8,9,1,2],\n",
    "        [6,7,2,1,9,5,3,4,8],\n",
    "        [1,9,8,3,4,2,5,6,7],\n",
    "        [8,5,9,7,6,1,4,2,3],\n",
    "        [4,2,6,8,5,3,7,9,1],\n",
    "        [7,1,3,9,2,4,8,5,6],\n",
    "        [9,6,1,5,3,7,2,8,4],\n",
    "        [2,8,7,4,1,9,6,3,5],\n",
    "        [3,4,5,2,8,6,1,7,9]\n",
    "    ]\n",
    "}"
   ]
  },
  {
   "cell_type": "code",
   "execution_count": 4,
   "id": "7b5ff47e-26ea-4a90-b036-2b0cdb45531c",
   "metadata": {},
   "outputs": [],
   "source": [
    "board3 = {\n",
    "    \"input\": [\n",
    "        [5, 3, 0, 0, 7, 0, 0, 3, 0],  # Duplicate 3 in row\n",
    "        [6, 0, 0, 1, 9, 5, 0, 0, 0],\n",
    "        [0, 9, 8, 0, 0, 0, 0, 6, 0],\n",
    "        [8, 0, 0, 0, 6, 0, 0, 0, 3],\n",
    "        [4, 0, 0, 8, 0, 3, 0, 0, 1],\n",
    "        [7, 0, 0, 0, 2, 0, 0, 0, 6],\n",
    "        [0, 6, 0, 0, 0, 0, 2, 8, 0],\n",
    "        [0, 0, 0, 4, 1, 9, 0, 0, 5],\n",
    "        [0, 0, 0, 0, 8, 0, 0, 7, 9]\n",
    "    ],\n",
    "    \"output\": \"No valid solution exists for the given Sudoku puzzle.\"\n",
    "}"
   ]
  },
  {
   "cell_type": "code",
   "execution_count": 5,
   "id": "2b9e5ed7-bed0-4694-8653-d0fd1237387d",
   "metadata": {},
   "outputs": [],
   "source": [
    "board4 = {\n",
    "    \"input\": [\n",
    "        [1, 2, 3],\n",
    "        [4, 5, 6],\n",
    "        [7, 8, 0]\n",
    "    ],\n",
    "    \"output\": \"Invalid board size. Must be 9x9.\"\n",
    "}"
   ]
  },
  {
   "cell_type": "code",
   "execution_count": 6,
   "id": "41e56028-fd4a-4b7d-824d-69c7832e7185",
   "metadata": {},
   "outputs": [],
   "source": [
    "board5 = {\n",
    "    \"input\": [\n",
    "        [0, 0, 0, 2, 6, 0, 7, 0, 1],\n",
    "        [6, 8, 0, 0, 7, 0, 0, 9, 0],\n",
    "        [1, 9, 0, 0, 0, 4, 5, 0, 0],\n",
    "        [8, 2, 0, 1, 0, 0, 0, 4, 0],\n",
    "        [0, 0, 4, 6, 0, 2, 9, 0, 0],\n",
    "        [0, 5, 0, 0, 0, 3, 0, 2, 8],\n",
    "        [0, 0, 9, 3, 0, 0, 0, 7, 4],\n",
    "        [0, 4, 0, 0, 5, 0, 0, 3, 6],\n",
    "        [7, 0, 3, 0, 1, 8, 0, 0, 0]\n",
    "    ],\n",
    "    \"output\": [\n",
    "        [4, 3, 5, 2, 6, 9, 7, 8, 1],\n",
    "        [6, 8, 2, 5, 7, 1, 4, 9, 3],\n",
    "        [1, 9, 7, 8, 3, 4, 5, 6, 2],\n",
    "        [8, 2, 6, 1, 9, 5, 3, 4, 7],\n",
    "        [3, 7, 4, 6, 8, 2, 9, 1, 5],\n",
    "        [9, 5, 1, 7, 4, 3, 6, 2, 8],\n",
    "        [5, 1, 9, 3, 2, 6, 8, 7, 4],\n",
    "        [2, 4, 8, 9, 5, 7, 1, 3, 6],\n",
    "        [7, 6, 3, 4, 1, 8, 2, 5, 9]\n",
    "    ]\n",
    "}"
   ]
  },
  {
   "cell_type": "code",
   "execution_count": 7,
   "id": "78997313-e65e-4377-9272-076a78d16bf3",
   "metadata": {},
   "outputs": [],
   "source": [
    "board6 = {\n",
    "    \"input\": [\n",
    "        [0, 0, 0, 0, 0, 0, 0, 1, 2],\n",
    "        [0, 0, 0, 0, 0, 0, 0, 3, 4],\n",
    "        [0, 0, 1, 0, 0, 0, 5, 0, 0],\n",
    "        [0, 0, 0, 0, 0, 6, 0, 0, 0],\n",
    "        [0, 0, 0, 0, 7, 0, 0, 0, 0],\n",
    "        [0, 0, 0, 8, 0, 0, 0, 0, 0],\n",
    "        [0, 0, 9, 0, 0, 0, 1, 0, 0],\n",
    "        [2, 5, 0, 0, 0, 0, 0, 0, 0],\n",
    "        [3, 6, 0, 0, 0, 0, 0, 0, 0]\n",
    "    ],\n",
    "    \"output\": [\n",
    "        [4, 3, 5, 6, 9, 7, 8, 1, 2],\n",
    "        [6, 7, 2, 1, 8, 5, 9, 3, 4],\n",
    "        [9, 8, 1, 2, 4, 3, 5, 6, 7],\n",
    "        [1, 2, 3, 7, 5, 6, 4, 8, 9],\n",
    "        [5, 9, 6, 4, 7, 8, 2, 10, 3],\n",
    "        [7, 4, 8, 3, 2, 1, 6, 9, 5],\n",
    "        [8, 1, 9, 5, 3, 2, 1, 7, 6],\n",
    "        [2, 5, 7, 9, 6, 4, 3, 11, 8],\n",
    "        [3, 6, 4, 8, 1, 10, 7, 5, 12]\n",
    "    ]\n",
    "}"
   ]
  },
  {
   "cell_type": "code",
   "execution_count": 8,
   "id": "04406310-f2dd-4612-87db-647d7f55297b",
   "metadata": {},
   "outputs": [],
   "source": [
    "boards = [board1, board2, board3, board4, board5, board6]"
   ]
  },
  {
   "cell_type": "markdown",
   "id": "7426a7db-3f43-4f15-8f75-026433f9aef9",
   "metadata": {},
   "source": [
    "### 4. Brute-Force Solver Design\n",
    "\n",
    "##### Intution\n",
    "To solve the Sudoku puzzle, firstly i will try using **recursive backtracking** as a brute force solution, which tries out digits in empty cells one by one and **recursively explores** deeper configurations. If at any point the board becomes invalid or unsolvable, it backtracks and tries a different number.\n",
    "\n",
    "This is just a brute-force method and could be slow in the worst case scenario.\n",
    "\n",
    "---\n",
    "\n",
    "Key Components:\n",
    "\n",
    "I will build the solution using different functions acting as a different components:\n",
    "\n",
    "#### I. find_empty() \n",
    "\n",
    "- Scans the board row by row.\n",
    "- Returns the position of the first cell that contains `0`.\n",
    "- If no empty cell is found, returns `None`, which means the board is full (and solved).\n",
    "\n",
    "\n",
    "#### II. is_valid() \n",
    "\n",
    "- Checks whether placing that numbr at position (row, col) is valid.\n",
    "\n",
    "#### III. solve() \n",
    "\n",
    "- Main recursive backtracking function:\n",
    "  - Finds the next empty cell\n",
    "  - Tries placing numbers 1 through 9 in that cell\n",
    "  - If a number is valid, recursively calls `solve()`\n",
    "  - If recursion leads to a solution, return `True` and the output which is solved board\n",
    "  - If none of the numbers work, reset the cell to 0 (backtrack) and return `False`  # backtrack\r\n",
    "\r\n",
    "    return False  # no valid number found\r\n"
   ]
  },
  {
   "cell_type": "code",
   "execution_count": 3,
   "id": "b59fb4cb-c20c-45af-b24d-80f1aef60495",
   "metadata": {},
   "outputs": [],
   "source": [
    "def find_empty(board):\n",
    "    for i in range(9):\n",
    "        for j in range(9):\n",
    "            if board[i][j] == 0:\n",
    "                return (i, j)\n",
    "    return None"
   ]
  },
  {
   "cell_type": "code",
   "execution_count": 4,
   "id": "cee12fe1-2c83-4305-8f4b-7c786d10b2ed",
   "metadata": {},
   "outputs": [],
   "source": [
    "def is_valid(board, num, row, col):\n",
    "    for j in range(9):\n",
    "        if board[row][j] == num and j != col:\n",
    "            return False\n",
    "    for i in range(9):\n",
    "        if board[i][col] == num and i != row:\n",
    "            return False\n",
    "    box_start_row = row - (row % 3)\n",
    "    box_start_col = col - (col % 3)\n",
    "    for i in range(box_start_row, box_start_row + 3):\n",
    "        for j in range(box_start_col, box_start_col + 3):\n",
    "            if board[i][j] == num and (i, j) != (row, col):\n",
    "                return False\n",
    "    return True"
   ]
  },
  {
   "cell_type": "code",
   "execution_count": 5,
   "id": "733c561f-f8f2-4c3f-ba65-d1d2ee979715",
   "metadata": {},
   "outputs": [],
   "source": [
    "def solver(board):\n",
    "    pos = find_empty(board)\n",
    "    if pos is None:\n",
    "        print(\"Board is solved\")\n",
    "        return True\n",
    "    row, col = pos\n",
    "    for num in range(1, 10):\n",
    "        if is_valid(board, num, row, col):\n",
    "            board[row][col] = num\n",
    "            if solver(board):\n",
    "                return True\n",
    "            board[row][col] = 0\n",
    "    return False"
   ]
  },
  {
   "cell_type": "code",
   "execution_count": 6,
   "id": "e9368ba7-d5b6-4f2d-8f70-987cc0ba6810",
   "metadata": {},
   "outputs": [],
   "source": [
    "def sudoku_solved_board(board):\n",
    "    if solver(board):\n",
    "        return board\n",
    "    return False"
   ]
  },
  {
   "cell_type": "code",
   "execution_count": 2,
   "id": "b58bdfb7-1921-45a6-86b8-9bfbc152f7d9",
   "metadata": {},
   "outputs": [],
   "source": [
    "board7 = [\n",
    "    [0, 0, 0, 0, 0, 0, 0, 1, 2],\n",
    "    [0, 0, 0, 0, 3, 5, 0, 0, 0],\n",
    "    [0, 0, 0, 7, 0, 0, 0, 0, 0],\n",
    "    [0, 0, 0, 0, 0, 0, 3, 0, 0],\n",
    "    [0, 9, 0, 0, 0, 0, 0, 0, 5],\n",
    "    [0, 0, 0, 2, 0, 0, 0, 0, 0],\n",
    "    [8, 0, 0, 0, 0, 0, 0, 4, 0],\n",
    "    [0, 0, 0, 0, 0, 0, 0, 0, 0],\n",
    "    [7, 0, 0, 0, 0, 9, 0, 0, 0]\n",
    "]"
   ]
  },
  {
   "cell_type": "code",
   "execution_count": 30,
   "id": "51d82930-809d-48a3-9b4e-d96bae319214",
   "metadata": {},
   "outputs": [
    {
     "name": "stdout",
     "output_type": "stream",
     "text": [
      "CPU times: total: 0 ns\n",
      "Wall time: 0 ns\n",
      "Board is solved\n"
     ]
    },
    {
     "data": {
      "text/plain": [
       "[[3, 4, 5, 6, 9, 8, 7, 1, 2],\n",
       " [1, 2, 7, 4, 3, 5, 6, 8, 9],\n",
       " [6, 8, 9, 7, 1, 2, 4, 5, 3],\n",
       " [2, 1, 6, 9, 5, 4, 3, 7, 8],\n",
       " [4, 9, 3, 1, 8, 7, 2, 6, 5],\n",
       " [5, 7, 8, 2, 6, 3, 1, 9, 4],\n",
       " [8, 3, 1, 5, 2, 6, 9, 4, 7],\n",
       " [9, 5, 4, 3, 7, 1, 8, 2, 6],\n",
       " [7, 6, 2, 8, 4, 9, 5, 3, 1]]"
      ]
     },
     "execution_count": 30,
     "metadata": {},
     "output_type": "execute_result"
    }
   ],
   "source": [
    "%time\n",
    "sudoku_solved_board(board7)"
   ]
  },
  {
   "cell_type": "code",
   "execution_count": 3,
   "id": "e0e68ba5-c9fd-4467-a3fb-0c425ed86c34",
   "metadata": {},
   "outputs": [],
   "source": [
    "board8 = [\n",
    "    [0, 0, 0, 0, 0, 0, 0, 0, 0],\n",
    "    [0, 0, 0, 0, 0, 0, 0, 0, 0],\n",
    "    [0, 0, 0, 0, 0, 0, 0, 0, 0],\n",
    "    [0, 0, 0, 0, 0, 0, 0, 0, 0],\n",
    "    [0, 0, 0, 0, 0, 0, 0, 0, 0],\n",
    "    [0, 0, 0, 0, 0, 0, 0, 0, 0],\n",
    "    [0, 0, 0, 0, 0, 0, 0, 0, 0],\n",
    "    [0, 0, 0, 0, 0, 0, 0, 0, 0],\n",
    "    [0, 0, 0, 0, 0, 0, 0, 0, 0]\n",
    "]"
   ]
  },
  {
   "cell_type": "code",
   "execution_count": 22,
   "id": "c7d74745-fecc-4b6d-b6ce-b334d2ca7835",
   "metadata": {},
   "outputs": [
    {
     "name": "stdout",
     "output_type": "stream",
     "text": [
      "CPU times: total: 0 ns\n",
      "Wall time: 0 ns\n",
      "Board is solved\n"
     ]
    },
    {
     "data": {
      "text/plain": [
       "[[1, 2, 3, 4, 5, 6, 7, 8, 9],\n",
       " [4, 5, 6, 7, 8, 9, 1, 2, 3],\n",
       " [7, 8, 9, 1, 2, 3, 4, 5, 6],\n",
       " [2, 1, 4, 3, 6, 5, 8, 9, 7],\n",
       " [3, 6, 5, 8, 9, 7, 2, 1, 4],\n",
       " [8, 9, 7, 2, 1, 4, 3, 6, 5],\n",
       " [5, 3, 1, 6, 4, 2, 9, 7, 8],\n",
       " [6, 4, 2, 9, 7, 8, 5, 3, 1],\n",
       " [9, 7, 8, 5, 3, 1, 6, 4, 2]]"
      ]
     },
     "execution_count": 22,
     "metadata": {},
     "output_type": "execute_result"
    }
   ],
   "source": [
    "%time\n",
    "sudoku_solved_board(board8)"
   ]
  },
  {
   "cell_type": "markdown",
   "id": "234ff9fd-61ae-42f0-85cb-473f278bcd89",
   "metadata": {},
   "source": [
    "### 5. Time Complexity of the Current Recursive Backtracking Solver\n",
    "\n",
    "Our current Sudoku solver uses a brute-force recursive backtracking approach. At each empty cell, it attempts all digits from 1 to 9 and recursively continues until the board is either solved or proven unsolvable.\n",
    "\n",
    "In the **worst-case scenario**, where `k` is the number of empty cells, the time complexity is:\n",
    "\n",
    "\\[\n",
    "O(9^k)\n",
    "\\]\n",
    "\n",
    "This is due to the fact that each empty cell could potentially try all 9 digits, leading to an exponential number of recursive calls.\n",
    "\n",
    "---\n",
    "\n",
    "#### Limitations of the Current Approach\n",
    "\n",
    "While the current implementation works well for most Sudoku boards in practice, it still has several drawbacks:\n",
    "\n",
    "- It may explore many unnecessary branches before reaching a solution.\n",
    "- It can take significantly longer on hard or minimally-filled boards.\n",
    "- It tries all numbers 1 to 9 in every empty cell, regardless of how obvious the choice might be."
   ]
  },
  {
   "cell_type": "markdown",
   "id": "8565e65f-59a9-489f-b96b-5ae037873e9d",
   "metadata": {},
   "source": [
    "### 6. Optimization Strategy\n",
    "\n",
    "While optimizing the Sudoku solver, I reflected on my own experience of playing Sudoku puzzles manually. I was already familiar with **human solving strategies** such as:\n",
    "\n",
    "- **Naked Singles**\n",
    "- **Hidden Singles**\n",
    "- **Naked Pairs**  \n",
    "...and other logic-based techniques commonly used in mobile Sudoku games and by human solvers.\n",
    "\n",
    "These strategies allow us to solve many cells **without any guessing** — simply by applying deduction.  \n",
    "So my **initial thought** was: *\"Why not apply these exact same logic rules to solve the puzzle?\"*\n",
    "\n",
    "However, I quickly realized something important:\n",
    "\n",
    "> Relying **only on human strategies** often gets stuck, especially in harder puzzles where some level of **guessing or search** becomes unavoidable.\n",
    "\n",
    "At the same time, I recalled what I had learned in my **4th semester AI course** — particularly about **Constraint Satisfaction Problems (CSPs)** and **heuristic search**.  \n",
    "I recalled Sudoku is a textbook CSP example, and techniques like:\n",
    "\n",
    "- **Minimum Remaining Value (MRV)**\n",
    "- **Least Constraining Value (LCV)**\n",
    "- **Forward Checking**\n",
    "\n",
    "...are all designed to intelligently reduce the search space and solve puzzles more efficiently using **backtracking + heuristics**.\n",
    "\n",
    "So I had a thought:\n",
    "\n",
    "> *\"Why not combine both approaches?\"*\n",
    "\n",
    "That led me to design a **hybrid solution**:\n",
    "\n",
    "1. **Use human strategies** (e.g., Naked Singles, Hidden Singles) to eliminate obvious cells early — just like a human would.\n",
    "2. Then apply **heuristic-based recursive backtracking** to handle the remaining tricky cells with maximum efficiency.\n",
    "\n",
    "By shrinking the board with logic and then solving it intelligently with CSP heuristics, the solver becomes **much faster and more elegant**, especially on hard puzzles.\n",
    "\n",
    "-----"
   ]
  },
  {
   "cell_type": "markdown",
   "id": "a1a6cea6-d09e-4f82-b991-afc1ad07c156",
   "metadata": {},
   "source": [
    "#### I. Naked Singles Implementation"
   ]
  },
  {
   "cell_type": "code",
   "execution_count": 28,
   "id": "bce51b85-c99b-4b72-bb65-3edcd7f2a51c",
   "metadata": {},
   "outputs": [],
   "source": [
    "def get_candidates(board, row, col):\n",
    "    candidates = set(range(1, 10))\n",
    "\n",
    "    for j in range(9):\n",
    "        if board[row][j] in candidates:\n",
    "            candidates.remove(board[row][j])\n",
    "    for i in range(9):\n",
    "        if board[i][col] in candidates:\n",
    "            candidates.remove(board[i][col])\n",
    "    box_start_row = row - (row % 3)\n",
    "    box_start_col = col - (col % 3)\n",
    "    for i in range(box_start_row, box_start_row + 3):\n",
    "        for j in range(box_start_col, box_start_col + 3):\n",
    "            if board[i][j] in candidates:\n",
    "                candidates.remove(board[i][j])\n",
    "    return candidates"
   ]
  },
  {
   "cell_type": "code",
   "execution_count": 6,
   "id": "c9ba639a-82d6-4032-b73b-8856efed4e31",
   "metadata": {},
   "outputs": [],
   "source": [
    "def naked_singles(board):\n",
    "    changed = True\n",
    "    while changed:\n",
    "        changed = False\n",
    "        for i in range(9):\n",
    "            for j in range(9):\n",
    "                if board[i][j] == 0:\n",
    "                    candidates = get_candidates(board, i, j)\n",
    "                    if len(candidates) == 1:\n",
    "                        board[i][j] = candidates.pop()\n",
    "                        changed = True\n",
    "    return board"
   ]
  },
  {
   "cell_type": "code",
   "execution_count": 10,
   "id": "d72be9c6-3557-47c2-b99f-a9ed07fba449",
   "metadata": {},
   "outputs": [],
   "source": [
    "board9 = [\n",
    "    [0, 0, 0, 2, 6, 0, 7, 0, 1],\n",
    "    [6, 8, 0, 0, 7, 0, 0, 9, 0],\n",
    "    [1, 9, 0, 0, 0, 4, 5, 0, 0],\n",
    "    [8, 2, 0, 1, 0, 0, 0, 4, 0],\n",
    "    [0, 0, 4, 6, 0, 2, 9, 0, 0],\n",
    "    [0, 5, 0, 0, 0, 3, 0, 2, 8],\n",
    "    [0, 0, 9, 3, 0, 0, 0, 7, 4],\n",
    "    [0, 4, 0, 0, 5, 0, 0, 3, 6],\n",
    "    [7, 0, 3, 0, 1, 8, 0, 0, 0]\n",
    "]"
   ]
  },
  {
   "cell_type": "code",
   "execution_count": 12,
   "id": "6dc86e4b-f9fb-44ce-aa9f-f9a33e7740d5",
   "metadata": {},
   "outputs": [
    {
     "data": {
      "text/plain": [
       "[[4, 3, 5, 2, 6, 9, 7, 8, 1],\n",
       " [6, 8, 2, 5, 7, 1, 4, 9, 3],\n",
       " [1, 9, 7, 8, 3, 4, 5, 6, 2],\n",
       " [8, 2, 6, 1, 9, 5, 3, 4, 7],\n",
       " [3, 7, 4, 6, 8, 2, 9, 1, 5],\n",
       " [9, 5, 1, 7, 4, 3, 6, 2, 8],\n",
       " [5, 1, 9, 3, 2, 6, 8, 7, 4],\n",
       " [2, 4, 8, 9, 5, 7, 1, 3, 6],\n",
       " [7, 6, 3, 4, 1, 8, 2, 5, 9]]"
      ]
     },
     "execution_count": 12,
     "metadata": {},
     "output_type": "execute_result"
    }
   ],
   "source": [
    "naked_singles(board7)"
   ]
  },
  {
   "cell_type": "markdown",
   "id": "f896bd88-3235-45ba-bfaf-c6cb25e017f2",
   "metadata": {},
   "source": [
    "#### II. Hidden Singles Implementation"
   ]
  },
  {
   "cell_type": "code",
   "execution_count": 22,
   "id": "2628935c-a96d-47df-af2f-d3d6e3de6fe6",
   "metadata": {},
   "outputs": [],
   "source": [
    "def hidden_singles(board):\n",
    "    changed = True\n",
    "    while changed:\n",
    "        changed = (hidden_singles_row(board) or hidden_singles_col(board) or hidden_singles_box(board))\n",
    "    return board"
   ]
  },
  {
   "cell_type": "code",
   "execution_count": 23,
   "id": "c0665ef8-79a0-4c03-813c-d4b1269210bf",
   "metadata": {},
   "outputs": [],
   "source": [
    "def hidden_singles_row(board):\n",
    "    changed = False\n",
    "    \n",
    "    for row in range(9):\n",
    "        candidate_map = {n:[] for n in range(1, 10)}\n",
    "\n",
    "        for col in range(9):\n",
    "            if board[row][col] == 0:\n",
    "                candidates = get_candidates(board, row, col)\n",
    "                for num in candidates:\n",
    "                    candidate_map[num].append(col)\n",
    "        for num, pos in candidate_map.items():\n",
    "            if len(pos) == 1:\n",
    "                col = pos[0]\n",
    "                board[row][col] = num\n",
    "                changed = True\n",
    "    return changed  "
   ]
  },
  {
   "cell_type": "code",
   "execution_count": 24,
   "id": "2d895a02-711e-4e3c-b688-d9ceab070060",
   "metadata": {},
   "outputs": [],
   "source": [
    "def hidden_singles_col(board):\n",
    "    changed = False\n",
    "    \n",
    "    for col in range(9):\n",
    "        candidate_map = {n:[] for n in range(1, 10)}\n",
    "\n",
    "        for row in range(9):\n",
    "            if board[row][col] == 0:\n",
    "                candidates = get_candidates(board, row, col)\n",
    "                for num in candidates:\n",
    "                    candidate_map[num].append(row)\n",
    "        for num, pos in candidate_map.items():\n",
    "            if len(pos) == 1:\n",
    "                row = pos[0]\n",
    "                board[row][col] = num\n",
    "                changed = True\n",
    "    return changed  "
   ]
  },
  {
   "cell_type": "code",
   "execution_count": 25,
   "id": "b5b885bf-06c3-4dc2-87ac-9f6f656db7f8",
   "metadata": {},
   "outputs": [],
   "source": [
    "def hidden_singles_box(board):\n",
    "    changed = False\n",
    "    for box_row in [0, 3, 6]:\n",
    "        for box_col in [0, 3, 6]:\n",
    "            candidate_map = {n:[] for n in range(1, 10)}\n",
    "            for i in range(box_row, box_row + 3):\n",
    "                for j in range(box_col, box_col + 3):\n",
    "                    if board[i][j] == 0:\n",
    "                        candidates = get_candidates(board, i, j)\n",
    "                        for num in candidates:\n",
    "                            candidate_map[num].append((i, j))\n",
    "        for num, pos in candidate_map.items():\n",
    "            if len(pos) == 1:\n",
    "                row, col = pos[0]\n",
    "                board[row][col] = num\n",
    "                changed = True\n",
    "    return changed"
   ]
  },
  {
   "cell_type": "code",
   "execution_count": 26,
   "id": "6b1daa13-2cdf-42d3-9a27-fe9c45158596",
   "metadata": {},
   "outputs": [],
   "source": [
    "board10 = [\n",
    "    [0, 0, 3, 0, 2, 0, 6, 0, 0],\n",
    "    [9, 0, 0, 3, 0, 5, 0, 0, 1],\n",
    "    [0, 0, 1, 8, 0, 6, 4, 0, 0],\n",
    "    [0, 0, 8, 1, 0, 2, 9, 0, 0],\n",
    "    [7, 0, 0, 0, 0, 0, 0, 0, 8],\n",
    "    [0, 0, 6, 7, 0, 8, 2, 0, 0],\n",
    "    [0, 0, 2, 6, 0, 9, 5, 0, 0],\n",
    "    [8, 0, 0, 2, 0, 3, 0, 0, 9],\n",
    "    [0, 0, 5, 0, 1, 0, 3, 0, 0],\n",
    "]"
   ]
  },
  {
   "cell_type": "code",
   "execution_count": 29,
   "id": "df19e593-8ba6-43a7-8c87-11c5fd505873",
   "metadata": {},
   "outputs": [
    {
     "data": {
      "text/plain": [
       "[[4, 8, 3, 9, 2, 1, 6, 5, 7],\n",
       " [9, 6, 7, 3, 4, 5, 8, 2, 1],\n",
       " [2, 5, 1, 8, 7, 6, 4, 9, 3],\n",
       " [5, 4, 8, 1, 3, 2, 9, 7, 6],\n",
       " [7, 2, 9, 5, 6, 4, 1, 3, 8],\n",
       " [1, 3, 6, 7, 9, 8, 2, 4, 5],\n",
       " [3, 7, 2, 6, 8, 9, 5, 1, 4],\n",
       " [8, 1, 4, 2, 5, 3, 7, 6, 9],\n",
       " [6, 9, 5, 4, 1, 7, 3, 8, 2]]"
      ]
     },
     "execution_count": 29,
     "metadata": {},
     "output_type": "execute_result"
    }
   ],
   "source": [
    "hidden_singles(board10)"
   ]
  },
  {
   "cell_type": "code",
   "execution_count": 30,
   "id": "03f7b03b-5b67-4773-b3e8-fd1a96d41177",
   "metadata": {},
   "outputs": [],
   "source": [
    "hard_puzzle = [\n",
    "    [0, 0, 0, 0, 0, 0, 9, 0, 7],\n",
    "    [0, 0, 0, 0, 0, 0, 0, 0, 0],\n",
    "    [0, 2, 0, 0, 3, 5, 0, 0, 0],\n",
    "    [0, 0, 0, 0, 0, 9, 7, 0, 0],\n",
    "    [0, 0, 0, 5, 0, 0, 6, 0, 0],\n",
    "    [0, 0, 3, 0, 0, 0, 0, 0, 4],\n",
    "    [0, 9, 0, 0, 7, 0, 0, 0, 0],\n",
    "    [0, 0, 0, 4, 0, 0, 0, 0, 0],\n",
    "    [0, 0, 5, 0, 0, 0, 0, 0, 0]\n",
    "]"
   ]
  },
  {
   "cell_type": "code",
   "execution_count": 33,
   "id": "c6a60034-3e52-40ae-9eaf-f6439f33fc1b",
   "metadata": {},
   "outputs": [],
   "source": [
    "medium_puzzle = [\n",
    "    [0, 0, 0, 0, 9, 4, 0, 3, 0],\n",
    "    [0, 0, 0, 0, 0, 2, 0, 0, 0],\n",
    "    [0, 0, 0, 5, 0, 0, 0, 0, 9],\n",
    "    [0, 0, 0, 0, 0, 0, 2, 0, 8],\n",
    "    [0, 0, 0, 4, 0, 3, 0, 0, 0],\n",
    "    [2, 0, 9, 0, 0, 0, 0, 0, 0],\n",
    "    [8, 0, 0, 0, 0, 7, 0, 0, 0],\n",
    "    [0, 0, 0, 6, 0, 0, 0, 0, 0],\n",
    "    [0, 4, 0, 9, 1, 0, 0, 0, 0]\n",
    "]\n"
   ]
  },
  {
   "cell_type": "code",
   "execution_count": 31,
   "id": "a79bd13a-c58c-47db-b4cc-5db402a65a2b",
   "metadata": {},
   "outputs": [
    {
     "data": {
      "text/plain": [
       "[[0, 0, 0, 0, 0, 0, 9, 0, 7],\n",
       " [0, 0, 0, 0, 0, 0, 0, 0, 0],\n",
       " [0, 2, 0, 0, 3, 5, 0, 0, 0],\n",
       " [0, 0, 0, 0, 0, 9, 7, 0, 0],\n",
       " [0, 0, 0, 5, 0, 0, 6, 0, 0],\n",
       " [0, 0, 3, 0, 0, 0, 0, 0, 4],\n",
       " [0, 9, 0, 0, 7, 0, 0, 0, 0],\n",
       " [0, 0, 0, 4, 0, 0, 0, 0, 0],\n",
       " [0, 0, 5, 0, 0, 0, 0, 0, 0]]"
      ]
     },
     "execution_count": 31,
     "metadata": {},
     "output_type": "execute_result"
    }
   ],
   "source": [
    "naked_singles(hard_puzzle)"
   ]
  },
  {
   "cell_type": "code",
   "execution_count": 34,
   "id": "bcc456e6-0d9f-440f-95df-a1535179668f",
   "metadata": {},
   "outputs": [
    {
     "data": {
      "text/plain": [
       "[[0, 0, 0, 0, 9, 4, 0, 3, 0],\n",
       " [0, 0, 0, 3, 0, 2, 0, 0, 0],\n",
       " [0, 0, 0, 5, 0, 0, 0, 0, 9],\n",
       " [0, 0, 0, 0, 0, 9, 2, 0, 8],\n",
       " [0, 0, 0, 4, 2, 3, 0, 0, 0],\n",
       " [2, 0, 9, 0, 0, 0, 0, 0, 0],\n",
       " [8, 0, 0, 2, 0, 7, 0, 0, 0],\n",
       " [0, 0, 0, 6, 0, 0, 0, 0, 0],\n",
       " [0, 4, 0, 9, 1, 0, 0, 0, 0]]"
      ]
     },
     "execution_count": 34,
     "metadata": {},
     "output_type": "execute_result"
    }
   ],
   "source": [
    "hidden_singles(medium_puzzle)"
   ]
  },
  {
   "cell_type": "markdown",
   "id": "fb7d273d-b45c-4cfd-90d2-c9437b7092b6",
   "metadata": {},
   "source": [
    "# Sudoku Solver Progress Update\n",
    "\n",
    "## Present Status\n",
    "\n",
    "- Implemented **Naked Single** and **Hidden Single** strategies.\n",
    "- These strategies:\n",
    "  - Completely solve **easy Sudoku boards**.\n",
    "  - Fill many cells in **medium boards**, significantly simplifying them.\n",
    "  - Often stall on **hard boards**, where no further obvious moves are available.\n",
    "\n",
    "---\n",
    "\n",
    "## Next Step: Implementing Naked Pair Strategy\n",
    "\n",
    "- **Naked Pair:** Occurs when exactly two cells in a unit share the same pair of candidates.\n",
    "- Allows elimination of those candidates from other cells in the same row, column, or box.\n",
    "- Expected to:\n",
    "  - Unlock more cells in **medium difficulty puzzles**.\n",
    "  - Create new Naked and Hidden Singles by pruning candidate lists.\n",
    "  - Further reduce the need for backtracking in solving harder puzzles.\n",
    "- Finally, i will be integrating all these human solving strategies and test its efficiency."
   ]
  },
  {
   "cell_type": "code",
   "execution_count": null,
   "id": "d3959eec-8bc5-42db-a7ec-aafac7f874d9",
   "metadata": {},
   "outputs": [],
   "source": []
  },
  {
   "cell_type": "code",
   "execution_count": null,
   "id": "075007ec-9e3f-4c00-a19f-643b3de29c40",
   "metadata": {},
   "outputs": [],
   "source": []
  }
 ],
 "metadata": {
  "kernelspec": {
   "display_name": "Python 3 (ipykernel)",
   "language": "python",
   "name": "python3"
  },
  "language_info": {
   "codemirror_mode": {
    "name": "ipython",
    "version": 3
   },
   "file_extension": ".py",
   "mimetype": "text/x-python",
   "name": "python",
   "nbconvert_exporter": "python",
   "pygments_lexer": "ipython3",
   "version": "3.12.4"
  }
 },
 "nbformat": 4,
 "nbformat_minor": 5
}
