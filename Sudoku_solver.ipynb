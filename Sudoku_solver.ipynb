{
 "cells": [
  {
   "cell_type": "markdown",
   "id": "be6ab363-680a-4cab-bd15-fb74d5df80b0",
   "metadata": {},
   "source": [
    "# Sudoku Solver"
   ]
  },
  {
   "cell_type": "markdown",
   "id": "afbf942b-3ad7-49ae-92ab-a266d5f79869",
   "metadata": {},
   "source": [
    "## 1. Problem Statement: Building an Efficient Sudoku Solver\n",
    "\n",
    "The goal is to design and implement a Sudoku Solver that can solve **any valid Sudoku board** efficiently and in an optimized manner.\n",
    "\n",
    "#### Constraints of a Valid Sudoku Solution:\n",
    "A number placed in the Sudoku grid must satisfy **three key rules**:\n",
    "\n",
    "1. **Row Constraint**: Each number from 1 to 9 must appear exactly once in every row.\n",
    "2. **Column Constraint**: Each number from 1 to 9 must appear exactly once in every column.\n",
    "3. **Box Constraint**: Each number from 1 to 9 must appear exactly once in every 3×3 subgrid (box).\n",
    "\n",
    "> In a valid completed Sudoku board, all 9 rows, 9 columns, and 9 boxes must contain **all digits from 1 to 9 exactly once**, with no repetitions or omissions.\n",
    "\n",
    "---\n",
    "\n",
    "The objective is to develop a solution that adheres to these constraints and solves both **easy** and **extremely hard** Sudoku boards in a reasonable time.asonable time.\r\n"
   ]
  },
  {
   "cell_type": "markdown",
   "id": "a3b15452-9b71-433e-a8dc-0770d80aa076",
   "metadata": {},
   "source": [
    "## 2. Inputs & Outputs:\n",
    "    Input: 9*9 grid board with empty cells marked as '.' or '0' and some cells with numbers. (At least 17 filled cells for unique solution)\n",
    "    Output: Solved board i.e flled 9*9 grid board"
   ]
  },
  {
   "cell_type": "markdown",
   "id": "23f4b4cc-83cd-4a7d-b1e0-6a0eba841eba",
   "metadata": {},
   "source": [
    "## 3. Test Cases:\n",
    "\n",
    "    I. Easy Board \n",
    "    II. Medium Difficulty Board\n",
    "    III. Difficult Board\n",
    "    IV. Already solved board\n",
    "    V. No solution"
   ]
  },
  {
   "cell_type": "code",
   "execution_count": 2,
   "id": "23b33b0a-66f4-4af8-9131-cba295a39a3a",
   "metadata": {},
   "outputs": [],
   "source": [
    "board1 = {\n",
    "    \"input\": [\n",
    "        [5, 3, 0, 0, 7, 0, 0, 0, 0],\n",
    "        [6, 0, 0, 1, 9, 5, 0, 0, 0],\n",
    "        [0, 9, 8, 0, 0, 0, 0, 6, 0],\n",
    "        [8, 0, 0, 0, 6, 0, 0, 0, 3],\n",
    "        [4, 0, 0, 8, 0, 3, 0, 0, 1],\n",
    "        [7, 0, 0, 0, 2, 0, 0, 0, 6],\n",
    "        [0, 6, 0, 0, 0, 0, 2, 8, 0],\n",
    "        [0, 0, 0, 4, 1, 9, 0, 0, 5],\n",
    "        [0, 0, 0, 0, 8, 0, 0, 7, 9]\n",
    "    ],\n",
    "    \"output\": [\n",
    "        [5, 3, 4, 6, 7, 8, 9, 1, 2],\n",
    "        [6, 7, 2, 1, 9, 5, 3, 4, 8],\n",
    "        [1, 9, 8, 3, 4, 2, 5, 6, 7],\n",
    "        [8, 5, 9, 7, 6, 1, 4, 2, 3],\n",
    "        [4, 2, 6, 8, 5, 3, 7, 9, 1],\n",
    "        [7, 1, 3, 9, 2, 4, 8, 5, 6],\n",
    "        [9, 6, 1, 5, 3, 7, 2, 8, 4],\n",
    "        [2, 8, 7, 4, 1, 9, 6, 3, 5],\n",
    "        [3, 4, 5, 2, 8, 6, 1, 7, 9]\n",
    "    ]\n",
    "}"
   ]
  },
  {
   "cell_type": "code",
   "execution_count": 3,
   "id": "be36e028-a34f-441b-8209-9fc15d0acc4e",
   "metadata": {},
   "outputs": [],
   "source": [
    "board2 = {\n",
    "    \"input\": [\n",
    "        [5,3,4,6,7,8,9,1,2],\n",
    "        [6,7,2,1,9,5,3,4,8],\n",
    "        [1,9,8,3,4,2,5,6,7],\n",
    "        [8,5,9,7,6,1,4,2,3],\n",
    "        [4,2,6,8,5,3,7,9,1],\n",
    "        [7,1,3,9,2,4,8,5,6],\n",
    "        [9,6,1,5,3,7,2,8,4],\n",
    "        [2,8,7,4,1,9,6,3,5],\n",
    "        [3,4,5,2,8,6,1,7,9]\n",
    "    ],\n",
    "    \"output\": [\n",
    "        [5,3,4,6,7,8,9,1,2],\n",
    "        [6,7,2,1,9,5,3,4,8],\n",
    "        [1,9,8,3,4,2,5,6,7],\n",
    "        [8,5,9,7,6,1,4,2,3],\n",
    "        [4,2,6,8,5,3,7,9,1],\n",
    "        [7,1,3,9,2,4,8,5,6],\n",
    "        [9,6,1,5,3,7,2,8,4],\n",
    "        [2,8,7,4,1,9,6,3,5],\n",
    "        [3,4,5,2,8,6,1,7,9]\n",
    "    ]\n",
    "}"
   ]
  },
  {
   "cell_type": "code",
   "execution_count": 4,
   "id": "7b5ff47e-26ea-4a90-b036-2b0cdb45531c",
   "metadata": {},
   "outputs": [],
   "source": [
    "board3 = {\n",
    "    \"input\": [\n",
    "        [5, 3, 0, 0, 7, 0, 0, 3, 0],  # Duplicate 3 in row\n",
    "        [6, 0, 0, 1, 9, 5, 0, 0, 0],\n",
    "        [0, 9, 8, 0, 0, 0, 0, 6, 0],\n",
    "        [8, 0, 0, 0, 6, 0, 0, 0, 3],\n",
    "        [4, 0, 0, 8, 0, 3, 0, 0, 1],\n",
    "        [7, 0, 0, 0, 2, 0, 0, 0, 6],\n",
    "        [0, 6, 0, 0, 0, 0, 2, 8, 0],\n",
    "        [0, 0, 0, 4, 1, 9, 0, 0, 5],\n",
    "        [0, 0, 0, 0, 8, 0, 0, 7, 9]\n",
    "    ],\n",
    "    \"output\": \"No valid solution exists for the given Sudoku puzzle.\"\n",
    "}"
   ]
  },
  {
   "cell_type": "code",
   "execution_count": 5,
   "id": "2b9e5ed7-bed0-4694-8653-d0fd1237387d",
   "metadata": {},
   "outputs": [],
   "source": [
    "board4 = {\n",
    "    \"input\": [\n",
    "        [1, 2, 3],\n",
    "        [4, 5, 6],\n",
    "        [7, 8, 0]\n",
    "    ],\n",
    "    \"output\": \"Invalid board size. Must be 9x9.\"\n",
    "}"
   ]
  },
  {
   "cell_type": "code",
   "execution_count": 6,
   "id": "41e56028-fd4a-4b7d-824d-69c7832e7185",
   "metadata": {},
   "outputs": [],
   "source": [
    "board5 = {\n",
    "    \"input\": [\n",
    "        [0, 0, 0, 2, 6, 0, 7, 0, 1],\n",
    "        [6, 8, 0, 0, 7, 0, 0, 9, 0],\n",
    "        [1, 9, 0, 0, 0, 4, 5, 0, 0],\n",
    "        [8, 2, 0, 1, 0, 0, 0, 4, 0],\n",
    "        [0, 0, 4, 6, 0, 2, 9, 0, 0],\n",
    "        [0, 5, 0, 0, 0, 3, 0, 2, 8],\n",
    "        [0, 0, 9, 3, 0, 0, 0, 7, 4],\n",
    "        [0, 4, 0, 0, 5, 0, 0, 3, 6],\n",
    "        [7, 0, 3, 0, 1, 8, 0, 0, 0]\n",
    "    ],\n",
    "    \"output\": [\n",
    "        [4, 3, 5, 2, 6, 9, 7, 8, 1],\n",
    "        [6, 8, 2, 5, 7, 1, 4, 9, 3],\n",
    "        [1, 9, 7, 8, 3, 4, 5, 6, 2],\n",
    "        [8, 2, 6, 1, 9, 5, 3, 4, 7],\n",
    "        [3, 7, 4, 6, 8, 2, 9, 1, 5],\n",
    "        [9, 5, 1, 7, 4, 3, 6, 2, 8],\n",
    "        [5, 1, 9, 3, 2, 6, 8, 7, 4],\n",
    "        [2, 4, 8, 9, 5, 7, 1, 3, 6],\n",
    "        [7, 6, 3, 4, 1, 8, 2, 5, 9]\n",
    "    ]\n",
    "}"
   ]
  },
  {
   "cell_type": "code",
   "execution_count": 7,
   "id": "78997313-e65e-4377-9272-076a78d16bf3",
   "metadata": {},
   "outputs": [],
   "source": [
    "board6 = {\n",
    "    \"input\": [\n",
    "        [0, 0, 0, 0, 0, 0, 0, 1, 2],\n",
    "        [0, 0, 0, 0, 0, 0, 0, 3, 4],\n",
    "        [0, 0, 1, 0, 0, 0, 5, 0, 0],\n",
    "        [0, 0, 0, 0, 0, 6, 0, 0, 0],\n",
    "        [0, 0, 0, 0, 7, 0, 0, 0, 0],\n",
    "        [0, 0, 0, 8, 0, 0, 0, 0, 0],\n",
    "        [0, 0, 9, 0, 0, 0, 1, 0, 0],\n",
    "        [2, 5, 0, 0, 0, 0, 0, 0, 0],\n",
    "        [3, 6, 0, 0, 0, 0, 0, 0, 0]\n",
    "    ],\n",
    "    \"output\": [\n",
    "        [4, 3, 5, 6, 9, 7, 8, 1, 2],\n",
    "        [6, 7, 2, 1, 8, 5, 9, 3, 4],\n",
    "        [9, 8, 1, 2, 4, 3, 5, 6, 7],\n",
    "        [1, 2, 3, 7, 5, 6, 4, 8, 9],\n",
    "        [5, 9, 6, 4, 7, 8, 2, 10, 3],\n",
    "        [7, 4, 8, 3, 2, 1, 6, 9, 5],\n",
    "        [8, 1, 9, 5, 3, 2, 1, 7, 6],\n",
    "        [2, 5, 7, 9, 6, 4, 3, 11, 8],\n",
    "        [3, 6, 4, 8, 1, 10, 7, 5, 12]\n",
    "    ]\n",
    "}"
   ]
  },
  {
   "cell_type": "code",
   "execution_count": 8,
   "id": "04406310-f2dd-4612-87db-647d7f55297b",
   "metadata": {},
   "outputs": [],
   "source": [
    "boards = [board1, board2, board3, board4, board5, board6]"
   ]
  },
  {
   "cell_type": "markdown",
   "id": "7426a7db-3f43-4f15-8f75-026433f9aef9",
   "metadata": {},
   "source": [
    "## 4. Brute-Force Solver Design\n",
    "\n",
    "##### Intution\n",
    "To solve the Sudoku puzzle, firstly i will try using **recursive backtracking** as a brute force solution, which tries out digits in empty cells one by one and **recursively explores** deeper configurations. If at any point the board becomes invalid or unsolvable, it backtracks and tries a different number.\n",
    "\n",
    "This is just a brute-force method and could be slow in the worst case scenario.\n",
    "\n",
    "---\n",
    "\n",
    "Key Components:\n",
    "\n",
    "I will build the solution using different functions acting as a different components:\n",
    "\n",
    "#### I. find_empty() \n",
    "\n",
    "- Scans the board row by row.\n",
    "- Returns the position of the first cell that contains `0`.\n",
    "- If no empty cell is found, returns `None`, which means the board is full (and solved).\n",
    "\n",
    "\n",
    "#### II. is_valid() \n",
    "\n",
    "- Checks whether placing that numbr at position (row, col) is valid.\n",
    "\n",
    "#### III. solve() \n",
    "\n",
    "- Main recursive backtracking function:\n",
    "  - Finds the next empty cell\n",
    "  - Tries placing numbers 1 through 9 in that cell\n",
    "  - If a number is valid, recursively calls `solve()`\n",
    "  - If recursion leads to a solution, return `True` and the output which is solved board\n",
    "  - If none of the numbers work, reset the cell to 0 (backtrack) and return `False`  # backtrack\r\n",
    "\r\n",
    "    return False  # no valid number found\r\n"
   ]
  },
  {
   "cell_type": "code",
   "execution_count": 1,
   "id": "b59fb4cb-c20c-45af-b24d-80f1aef60495",
   "metadata": {},
   "outputs": [],
   "source": [
    "def find_empty(board):\n",
    "    for i in range(9):\n",
    "        for j in range(9):\n",
    "            if board[i][j] == 0:\n",
    "                return (i, j)\n",
    "    return None"
   ]
  },
  {
   "cell_type": "code",
   "execution_count": 2,
   "id": "cee12fe1-2c83-4305-8f4b-7c786d10b2ed",
   "metadata": {},
   "outputs": [],
   "source": [
    "def is_valid(board, num, row, col):\n",
    "    for j in range(9):\n",
    "        if board[row][j] == num and j != col:\n",
    "            return False\n",
    "    for i in range(9):\n",
    "        if board[i][col] == num and i != row:\n",
    "            return False\n",
    "    box_start_row = row - (row % 3)\n",
    "    box_start_col = col - (col % 3)\n",
    "    for i in range(box_start_row, box_start_row + 3):\n",
    "        for j in range(box_start_col, box_start_col + 3):\n",
    "            if board[i][j] == num and (i, j) != (row, col):\n",
    "                return False\n",
    "    return True"
   ]
  },
  {
   "cell_type": "code",
   "execution_count": 3,
   "id": "733c561f-f8f2-4c3f-ba65-d1d2ee979715",
   "metadata": {},
   "outputs": [],
   "source": [
    "def solver(board):\n",
    "    pos = find_empty(board)\n",
    "    if pos is None:\n",
    "        print(\"Board is solved\")\n",
    "        return True\n",
    "    row, col = pos\n",
    "    for num in range(1, 10):\n",
    "        if is_valid(board, num, row, col):\n",
    "            board[row][col] = num\n",
    "            if solver(board):\n",
    "                return True\n",
    "            board[row][col] = 0\n",
    "    return False"
   ]
  },
  {
   "cell_type": "code",
   "execution_count": 4,
   "id": "e9368ba7-d5b6-4f2d-8f70-987cc0ba6810",
   "metadata": {},
   "outputs": [],
   "source": [
    "def sudoku_solved_board(board):\n",
    "    if solver(board):\n",
    "        return board\n",
    "    return False"
   ]
  },
  {
   "cell_type": "code",
   "execution_count": 16,
   "id": "b58bdfb7-1921-45a6-86b8-9bfbc152f7d9",
   "metadata": {},
   "outputs": [],
   "source": [
    "board7 = [\n",
    "    [0, 0, 0, 0, 0, 0, 0, 1, 2],\n",
    "    [0, 0, 0, 0, 3, 5, 0, 0, 0],\n",
    "    [0, 0, 0, 7, 0, 0, 0, 0, 0],\n",
    "    [0, 0, 0, 0, 0, 0, 3, 0, 0],\n",
    "    [0, 9, 0, 0, 0, 0, 0, 0, 5],\n",
    "    [0, 0, 0, 2, 0, 0, 0, 0, 0],\n",
    "    [8, 0, 0, 0, 0, 0, 0, 4, 0],\n",
    "    [0, 0, 0, 0, 0, 0, 0, 0, 0],\n",
    "    [7, 0, 0, 0, 0, 9, 0, 0, 0]\n",
    "]"
   ]
  },
  {
   "cell_type": "code",
   "execution_count": 17,
   "id": "51d82930-809d-48a3-9b4e-d96bae319214",
   "metadata": {},
   "outputs": [
    {
     "name": "stdout",
     "output_type": "stream",
     "text": [
      "Board is solved\n"
     ]
    },
    {
     "data": {
      "text/plain": [
       "[[3, 4, 5, 6, 9, 8, 7, 1, 2],\n",
       " [1, 2, 7, 4, 3, 5, 6, 8, 9],\n",
       " [6, 8, 9, 7, 1, 2, 4, 5, 3],\n",
       " [2, 1, 6, 9, 5, 4, 3, 7, 8],\n",
       " [4, 9, 3, 1, 8, 7, 2, 6, 5],\n",
       " [5, 7, 8, 2, 6, 3, 1, 9, 4],\n",
       " [8, 3, 1, 5, 2, 6, 9, 4, 7],\n",
       " [9, 5, 4, 3, 7, 1, 8, 2, 6],\n",
       " [7, 6, 2, 8, 4, 9, 5, 3, 1]]"
      ]
     },
     "execution_count": 17,
     "metadata": {},
     "output_type": "execute_result"
    }
   ],
   "source": [
    "sudoku_solved_board(board7)"
   ]
  },
  {
   "cell_type": "code",
   "execution_count": 18,
   "id": "e0e68ba5-c9fd-4467-a3fb-0c425ed86c34",
   "metadata": {},
   "outputs": [],
   "source": [
    "board8 = [\n",
    "    [0, 0, 0, 0, 0, 0, 0, 0, 0],\n",
    "    [0, 0, 0, 0, 0, 0, 0, 0, 0],\n",
    "    [0, 0, 0, 0, 0, 0, 0, 0, 0],\n",
    "    [0, 0, 0, 0, 0, 0, 0, 0, 0],\n",
    "    [0, 0, 0, 0, 0, 0, 0, 0, 0],\n",
    "    [0, 0, 0, 0, 0, 0, 0, 0, 0],\n",
    "    [0, 0, 0, 0, 0, 0, 0, 0, 0],\n",
    "    [0, 0, 0, 0, 0, 0, 0, 0, 0],\n",
    "    [0, 0, 0, 0, 0, 0, 0, 0, 0]\n",
    "]"
   ]
  },
  {
   "cell_type": "code",
   "execution_count": 19,
   "id": "c7d74745-fecc-4b6d-b6ce-b334d2ca7835",
   "metadata": {},
   "outputs": [
    {
     "name": "stdout",
     "output_type": "stream",
     "text": [
      "Board is solved\n"
     ]
    },
    {
     "data": {
      "text/plain": [
       "[[1, 2, 3, 4, 5, 6, 7, 8, 9],\n",
       " [4, 5, 6, 7, 8, 9, 1, 2, 3],\n",
       " [7, 8, 9, 1, 2, 3, 4, 5, 6],\n",
       " [2, 1, 4, 3, 6, 5, 8, 9, 7],\n",
       " [3, 6, 5, 8, 9, 7, 2, 1, 4],\n",
       " [8, 9, 7, 2, 1, 4, 3, 6, 5],\n",
       " [5, 3, 1, 6, 4, 2, 9, 7, 8],\n",
       " [6, 4, 2, 9, 7, 8, 5, 3, 1],\n",
       " [9, 7, 8, 5, 3, 1, 6, 4, 2]]"
      ]
     },
     "execution_count": 19,
     "metadata": {},
     "output_type": "execute_result"
    }
   ],
   "source": [
    "sudoku_solved_board(board8)"
   ]
  },
  {
   "cell_type": "markdown",
   "id": "234ff9fd-61ae-42f0-85cb-473f278bcd89",
   "metadata": {},
   "source": [
    "## 5. Time Complexity of the Current Recursive Backtracking Solver\n",
    "\n",
    "Our current Sudoku solver uses a brute-force recursive backtracking approach. At each empty cell, it attempts all digits from 1 to 9 and recursively continues until the board is either solved or proven unsolvable.\n",
    "\n",
    "In the **worst-case scenario**, where `k` is the number of empty cells, the time complexity is:\n",
    "\n",
    "\\[\n",
    "O(9^k)\n",
    "\\]\n",
    "\n",
    "This is due to the fact that each empty cell could potentially try all 9 digits, leading to an exponential number of recursive calls.\n",
    "\n",
    "---\n",
    "\n",
    "#### Limitations of the Current Approach\n",
    "\n",
    "While the current implementation works well for most Sudoku boards in practice, it still has several drawbacks:\n",
    "\n",
    "- It may explore many unnecessary branches before reaching a solution.\n",
    "- It can take significantly longer on hard or minimally-filled boards.\n",
    "- It tries all numbers 1 to 9 in every empty cell, regardless of how obvious the choice might be."
   ]
  },
  {
   "cell_type": "markdown",
   "id": "8565e65f-59a9-489f-b96b-5ae037873e9d",
   "metadata": {},
   "source": [
    "## 6. Optimization Strategy\n",
    "\n",
    "While optimizing the Sudoku solver, I reflected on my own experience of playing Sudoku puzzles manually. I was already familiar with **human solving strategies** such as:\n",
    "\n",
    "- **Naked Singles**\n",
    "- **Hidden Singles**\n",
    "- **Naked Pairs**  \n",
    "...and other logic-based techniques commonly used in mobile Sudoku games and by human solvers.\n",
    "\n",
    "These strategies allow us to solve many cells **without any guessing** — simply by applying deduction.  \n",
    "So my **initial thought** was: *\"Why not apply these exact same logic rules to solve the puzzle?\"*\n",
    "\n",
    "However, I quickly realized something important:\n",
    "\n",
    "> Relying **only on human strategies** often gets stuck, especially in harder puzzles where some level of **guessing or search** becomes unavoidable.\n",
    "\n",
    "At the same time, I recalled what I had learned in my **4th semester AI course** — particularly about **Constraint Satisfaction Problems (CSPs)** and **heuristic search**.  \n",
    "I recalled Sudoku is a textbook CSP example, and techniques like:\n",
    "\n",
    "- **Minimum Remaining Value (MRV)**\n",
    "- **Least Constraining Value (LCV)**\n",
    "- **Forward Checking**\n",
    "\n",
    "...are all designed to intelligently reduce the search space and solve puzzles more efficiently using **backtracking + heuristics**.\n",
    "\n",
    "So I had a thought:\n",
    "\n",
    "> *\"Why not combine both approaches?\"*\n",
    "\n",
    "That led me to design a **hybrid solution**:\n",
    "\n",
    "1. **Use human strategies** (e.g., Naked Singles, Hidden Singles) to eliminate obvious cells early — just like a human would.\n",
    "2. Then apply **heuristic-based recursive backtracking** to handle the remaining tricky cells with maximum efficiency.\n",
    "\n",
    "By shrinking the board with logic and then solving it intelligently with CSP heuristics, the solver becomes **much faster and more elegant**, especially on hard puzzles.\n",
    "\n",
    "-----"
   ]
  },
  {
   "cell_type": "markdown",
   "id": "8741e5ce-62bf-429c-a368-f66030fa383c",
   "metadata": {},
   "source": [
    "## Human Strategies Implementation"
   ]
  },
  {
   "cell_type": "markdown",
   "id": "a1a6cea6-d09e-4f82-b991-afc1ad07c156",
   "metadata": {},
   "source": [
    "### I. Naked Singles Implementation"
   ]
  },
  {
   "cell_type": "code",
   "execution_count": 34,
   "id": "bce51b85-c99b-4b72-bb65-3edcd7f2a51c",
   "metadata": {},
   "outputs": [],
   "source": [
    "def get_candidates(board, row, col):\n",
    "    candidates = set(range(1, 10))\n",
    "\n",
    "    for j in range(9):\n",
    "        if board[row][j] in candidates:\n",
    "            candidates.remove(board[row][j])\n",
    "    for i in range(9):\n",
    "        if board[i][col] in candidates:\n",
    "            candidates.remove(board[i][col])\n",
    "    box_start_row = row - (row % 3)\n",
    "    box_start_col = col - (col % 3)\n",
    "    for i in range(box_start_row, box_start_row + 3):\n",
    "        for j in range(box_start_col, box_start_col + 3):\n",
    "            if board[i][j] in candidates:\n",
    "                candidates.remove(board[i][j])\n",
    "    return candidates"
   ]
  },
  {
   "cell_type": "code",
   "execution_count": 6,
   "id": "c9ba639a-82d6-4032-b73b-8856efed4e31",
   "metadata": {},
   "outputs": [],
   "source": [
    "def naked_singles(board):\n",
    "    changed = True\n",
    "    while changed:\n",
    "        changed = False\n",
    "        for i in range(9):\n",
    "            for j in range(9):\n",
    "                if board[i][j] == 0:\n",
    "                    candidates = get_candidates(board, i, j)\n",
    "                    if len(candidates) == 1:\n",
    "                        board[i][j] = candidates.pop()\n",
    "                        changed = True\n",
    "    return board"
   ]
  },
  {
   "cell_type": "code",
   "execution_count": 29,
   "id": "d72be9c6-3557-47c2-b99f-a9ed07fba449",
   "metadata": {},
   "outputs": [],
   "source": [
    "board9 = [\n",
    "    [0, 0, 0, 2, 6, 0, 7, 0, 1],\n",
    "    [6, 8, 0, 0, 7, 0, 0, 9, 0],\n",
    "    [1, 9, 0, 0, 0, 4, 5, 0, 0],\n",
    "    [8, 2, 0, 1, 0, 0, 0, 4, 0],\n",
    "    [0, 0, 4, 6, 0, 2, 9, 0, 0],\n",
    "    [0, 5, 0, 0, 0, 3, 0, 2, 8],\n",
    "    [0, 0, 9, 3, 0, 0, 0, 7, 4],\n",
    "    [0, 4, 0, 0, 5, 0, 0, 3, 6],\n",
    "    [7, 0, 3, 0, 1, 8, 0, 0, 0]\n",
    "]"
   ]
  },
  {
   "cell_type": "code",
   "execution_count": 21,
   "id": "6dc86e4b-f9fb-44ce-aa9f-f9a33e7740d5",
   "metadata": {},
   "outputs": [
    {
     "data": {
      "text/plain": [
       "[[4, 3, 5, 2, 6, 9, 7, 8, 1],\n",
       " [6, 8, 2, 5, 7, 1, 4, 9, 3],\n",
       " [1, 9, 7, 8, 3, 4, 5, 6, 2],\n",
       " [8, 2, 6, 1, 9, 5, 3, 4, 7],\n",
       " [3, 7, 4, 6, 8, 2, 9, 1, 5],\n",
       " [9, 5, 1, 7, 4, 3, 6, 2, 8],\n",
       " [5, 1, 9, 3, 2, 6, 8, 7, 4],\n",
       " [2, 4, 8, 9, 5, 7, 1, 3, 6],\n",
       " [7, 6, 3, 4, 1, 8, 2, 5, 9]]"
      ]
     },
     "execution_count": 21,
     "metadata": {},
     "output_type": "execute_result"
    }
   ],
   "source": [
    "naked_singles(board9)"
   ]
  },
  {
   "cell_type": "markdown",
   "id": "f896bd88-3235-45ba-bfaf-c6cb25e017f2",
   "metadata": {},
   "source": [
    "### II. Hidden Singles Implementation"
   ]
  },
  {
   "cell_type": "code",
   "execution_count": 7,
   "id": "2628935c-a96d-47df-af2f-d3d6e3de6fe6",
   "metadata": {},
   "outputs": [],
   "source": [
    "def hidden_singles(board):\n",
    "    changed = True\n",
    "    while changed:\n",
    "        changed = (hidden_singles_row(board) or hidden_singles_col(board) or hidden_singles_box(board))\n",
    "    return board"
   ]
  },
  {
   "cell_type": "code",
   "execution_count": 8,
   "id": "c0665ef8-79a0-4c03-813c-d4b1269210bf",
   "metadata": {},
   "outputs": [],
   "source": [
    "def hidden_singles_row(board):\n",
    "    changed = False\n",
    "    \n",
    "    for row in range(9):\n",
    "        candidate_map = {n:[] for n in range(1, 10)}\n",
    "\n",
    "        for col in range(9):\n",
    "            if board[row][col] == 0:\n",
    "                candidates = get_candidates(board, row, col)\n",
    "                for num in candidates:\n",
    "                    candidate_map[num].append(col)\n",
    "        for num, pos in candidate_map.items():\n",
    "            if len(pos) == 1:\n",
    "                col = pos[0]\n",
    "                board[row][col] = num\n",
    "                changed = True\n",
    "    return changed  "
   ]
  },
  {
   "cell_type": "code",
   "execution_count": 9,
   "id": "2d895a02-711e-4e3c-b688-d9ceab070060",
   "metadata": {},
   "outputs": [],
   "source": [
    "def hidden_singles_col(board):\n",
    "    changed = False\n",
    "    \n",
    "    for col in range(9):\n",
    "        candidate_map = {n:[] for n in range(1, 10)}\n",
    "\n",
    "        for row in range(9):\n",
    "            if board[row][col] == 0:\n",
    "                candidates = get_candidates(board, row, col)\n",
    "                for num in candidates:\n",
    "                    candidate_map[num].append(row)\n",
    "        for num, pos in candidate_map.items():\n",
    "            if len(pos) == 1:\n",
    "                row = pos[0]\n",
    "                board[row][col] = num\n",
    "                changed = True\n",
    "    return changed  "
   ]
  },
  {
   "cell_type": "code",
   "execution_count": 10,
   "id": "b5b885bf-06c3-4dc2-87ac-9f6f656db7f8",
   "metadata": {},
   "outputs": [],
   "source": [
    "def hidden_singles_box(board):\n",
    "    changed = False\n",
    "    for box_row in [0, 3, 6]:\n",
    "        for box_col in [0, 3, 6]:\n",
    "            candidate_map = {n:[] for n in range(1, 10)}\n",
    "            for i in range(box_row, box_row + 3):\n",
    "                for j in range(box_col, box_col + 3):\n",
    "                    if board[i][j] == 0:\n",
    "                        candidates = get_candidates(board, i, j)\n",
    "                        for num in candidates:\n",
    "                            candidate_map[num].append((i, j))\n",
    "        for num, pos in candidate_map.items():\n",
    "            if len(pos) == 1:\n",
    "                row, col = pos[0]\n",
    "                board[row][col] = num\n",
    "                changed = True\n",
    "    return changed"
   ]
  },
  {
   "cell_type": "code",
   "execution_count": 29,
   "id": "6b1daa13-2cdf-42d3-9a27-fe9c45158596",
   "metadata": {},
   "outputs": [],
   "source": [
    "board10 = [\n",
    "    [0, 0, 3, 0, 2, 0, 6, 0, 0],\n",
    "    [9, 0, 0, 3, 0, 5, 0, 0, 1],\n",
    "    [0, 0, 1, 8, 0, 6, 4, 0, 0],\n",
    "    [0, 0, 8, 1, 0, 2, 9, 0, 0],\n",
    "    [7, 0, 0, 0, 0, 0, 0, 0, 8],\n",
    "    [0, 0, 6, 7, 0, 8, 2, 0, 0],\n",
    "    [0, 0, 2, 6, 0, 9, 5, 0, 0],\n",
    "    [8, 0, 0, 2, 0, 3, 0, 0, 9],\n",
    "    [0, 0, 5, 0, 1, 0, 3, 0, 0],\n",
    "]"
   ]
  },
  {
   "cell_type": "code",
   "execution_count": 30,
   "id": "df19e593-8ba6-43a7-8c87-11c5fd505873",
   "metadata": {},
   "outputs": [
    {
     "data": {
      "text/plain": [
       "[[4, 8, 3, 9, 2, 1, 6, 5, 7],\n",
       " [9, 6, 7, 3, 4, 5, 8, 2, 1],\n",
       " [2, 5, 1, 8, 7, 6, 4, 9, 3],\n",
       " [5, 4, 8, 1, 3, 2, 9, 7, 6],\n",
       " [7, 2, 9, 5, 6, 4, 1, 3, 8],\n",
       " [1, 3, 6, 7, 9, 8, 2, 4, 5],\n",
       " [3, 7, 2, 6, 8, 9, 5, 1, 4],\n",
       " [8, 1, 4, 2, 5, 3, 7, 6, 9],\n",
       " [6, 9, 5, 4, 1, 7, 3, 8, 2]]"
      ]
     },
     "execution_count": 30,
     "metadata": {},
     "output_type": "execute_result"
    }
   ],
   "source": [
    "hidden_singles(board10)"
   ]
  },
  {
   "cell_type": "code",
   "execution_count": 36,
   "id": "03f7b03b-5b67-4773-b3e8-fd1a96d41177",
   "metadata": {},
   "outputs": [],
   "source": [
    "hard_puzzle = [\n",
    "    [0, 0, 0, 0, 0, 0, 9, 0, 7],\n",
    "    [0, 0, 0, 0, 0, 0, 0, 0, 0],\n",
    "    [0, 2, 0, 0, 3, 5, 0, 0, 0],\n",
    "    [0, 0, 0, 0, 0, 9, 7, 0, 0],\n",
    "    [0, 0, 0, 5, 0, 0, 6, 0, 0],\n",
    "    [0, 0, 3, 0, 0, 0, 0, 0, 4],\n",
    "    [0, 9, 0, 0, 7, 0, 0, 0, 0],\n",
    "    [0, 0, 0, 4, 0, 0, 0, 0, 0],\n",
    "    [0, 0, 5, 0, 0, 0, 0, 0, 0]\n",
    "]"
   ]
  },
  {
   "cell_type": "code",
   "execution_count": 73,
   "id": "c6a60034-3e52-40ae-9eaf-f6439f33fc1b",
   "metadata": {},
   "outputs": [],
   "source": [
    "medium_puzzle = [\n",
    "    [0, 0, 0, 0, 9, 4, 0, 3, 0],\n",
    "    [0, 0, 0, 0, 0, 2, 0, 0, 0],\n",
    "    [0, 0, 0, 5, 0, 0, 0, 0, 9],\n",
    "    [0, 0, 0, 0, 0, 0, 2, 0, 8],\n",
    "    [0, 0, 0, 4, 0, 3, 0, 0, 0],\n",
    "    [2, 0, 9, 0, 0, 0, 0, 0, 0],\n",
    "    [8, 0, 0, 0, 0, 7, 0, 0, 0],\n",
    "    [0, 0, 0, 6, 0, 0, 0, 0, 0],\n",
    "    [0, 4, 0, 9, 1, 0, 0, 0, 0]\n",
    "]\n"
   ]
  },
  {
   "cell_type": "code",
   "execution_count": 38,
   "id": "a79bd13a-c58c-47db-b4cc-5db402a65a2b",
   "metadata": {},
   "outputs": [
    {
     "data": {
      "text/plain": [
       "[[0, 0, 0, 0, 0, 0, 9, 0, 7],\n",
       " [0, 0, 0, 0, 0, 0, 0, 0, 0],\n",
       " [0, 2, 0, 0, 3, 5, 0, 0, 0],\n",
       " [0, 0, 0, 0, 0, 9, 7, 0, 0],\n",
       " [0, 0, 0, 5, 0, 0, 6, 0, 0],\n",
       " [0, 0, 3, 0, 0, 0, 0, 0, 4],\n",
       " [0, 9, 0, 0, 7, 0, 0, 0, 0],\n",
       " [0, 0, 0, 4, 0, 0, 0, 0, 0],\n",
       " [0, 0, 5, 0, 0, 0, 0, 0, 0]]"
      ]
     },
     "execution_count": 38,
     "metadata": {},
     "output_type": "execute_result"
    }
   ],
   "source": [
    "naked_singles(hard_puzzle)"
   ]
  },
  {
   "cell_type": "code",
   "execution_count": 39,
   "id": "bcc456e6-0d9f-440f-95df-a1535179668f",
   "metadata": {},
   "outputs": [
    {
     "data": {
      "text/plain": [
       "[[0, 0, 0, 0, 9, 4, 0, 3, 0],\n",
       " [0, 0, 0, 3, 0, 2, 0, 0, 0],\n",
       " [0, 0, 0, 5, 0, 0, 0, 0, 9],\n",
       " [0, 0, 0, 0, 0, 9, 2, 0, 8],\n",
       " [0, 0, 0, 4, 2, 3, 0, 0, 0],\n",
       " [2, 0, 9, 0, 0, 0, 0, 0, 0],\n",
       " [8, 0, 0, 2, 0, 7, 0, 0, 0],\n",
       " [0, 0, 0, 6, 0, 0, 0, 0, 0],\n",
       " [0, 4, 0, 9, 1, 0, 0, 0, 0]]"
      ]
     },
     "execution_count": 39,
     "metadata": {},
     "output_type": "execute_result"
    }
   ],
   "source": [
    "hidden_singles(medium_puzzle)"
   ]
  },
  {
   "cell_type": "markdown",
   "id": "fb7d273d-b45c-4cfd-90d2-c9437b7092b6",
   "metadata": {},
   "source": [
    "## Sudoku Solver Progress Update\n",
    "\n",
    "### Present Status\n",
    "\n",
    "- Implemented **Naked Single** and **Hidden Single** strategies.\n",
    "- These strategies:\n",
    "  - Completely solve **easy Sudoku boards**.\n",
    "  - Fill many cells in **medium boards**, significantly simplifying them.\n",
    "  - Often stall on **hard boards**, where no further obvious moves are available.\n",
    "\n",
    "---\n",
    "\n",
    "### Next Step: Implementing Naked Pair Strategy\n",
    "\n",
    "- **Naked Pair:** Occurs when exactly two cells in a unit share the same pair of candidates.\n",
    "- Allows elimination of those candidates from other cells in the same row, column, or box.\n",
    "- Expected to:\n",
    "  - Unlock more cells in **medium difficulty puzzles**.\n",
    "  - Create new Naked and Hidden Singles by pruning candidate lists.\n",
    "  - Further reduce the need for backtracking in solving harder puzzles.\n",
    "- Finally, i will be integrating all these human solving strategies and test its efficiency."
   ]
  },
  {
   "cell_type": "markdown",
   "id": "f4ca18be-0d42-4b1d-b68a-cdb2c1c62d20",
   "metadata": {},
   "source": [
    "### III. Naked Pair Implementation"
   ]
  },
  {
   "cell_type": "code",
   "execution_count": 11,
   "id": "9fce42dc-3fc2-48b8-89f2-3d6efb07015a",
   "metadata": {},
   "outputs": [],
   "source": [
    "def naked_pair(board):\n",
    "    changed = True\n",
    "    while changed:\n",
    "        changed = (naked_pair_row(board) or naked_pair_col(board) or naked_pair_box(board))\n",
    "    return board"
   ]
  },
  {
   "cell_type": "code",
   "execution_count": 12,
   "id": "075007ec-9e3f-4c00-a19f-643b3de29c40",
   "metadata": {},
   "outputs": [],
   "source": [
    "def naked_pair_row(board):\n",
    "    changed = False\n",
    "    \n",
    "    for row in range(9):\n",
    "        candidate_map = {}\n",
    "\n",
    "        for col in range(9):\n",
    "            if board[row][col] == 0:\n",
    "                candidates = get_candidates(board, row, col)\n",
    "                if len(candidates) == 2:\n",
    "                    key = tuple(sorted(candidates))\n",
    "                    candidate_map.setdefault(key, []).append(col)\n",
    "        for key, pos in candidate_map.items():\n",
    "            if len(pos) == 2:\n",
    "                for col in range(9):\n",
    "                    if col not in pos and board[row][col] == 0:\n",
    "                        candidates = get_candidates(board, row, col)\n",
    "                        new_candidates = candidates - set(key)\n",
    "                        if len(new_candidates) < len(candidates):\n",
    "                            if len(new_candidates) == 1:\n",
    "                                board[row][col] = new_candidates.pop()\n",
    "                            changed = True\n",
    "    return changed  "
   ]
  },
  {
   "cell_type": "code",
   "execution_count": 13,
   "id": "c9096260-3a4c-4fd9-a8b2-e778439b3c59",
   "metadata": {},
   "outputs": [],
   "source": [
    "def naked_pair_col(board):\n",
    "    changed = False\n",
    "    \n",
    "    for col in range(9):\n",
    "        candidate_map = {}\n",
    "\n",
    "        for row in range(9):\n",
    "            if board[row][col] == 0:\n",
    "                candidates = get_candidates(board, row, col)\n",
    "                if len(candidates) == 2:\n",
    "                    key = tuple(sorted(candidates))\n",
    "                    candidate_map.setdefault(key, []).append(row)\n",
    "        for key, pos in candidate_map.items():\n",
    "            if len(pos) == 2:\n",
    "                for row in range(9):\n",
    "                    if row not in pos and board[row][col] == 0:\n",
    "                        candidates = get_candidates(board, row, col)\n",
    "                        new_candidates = candidates - set(key)\n",
    "                        if len(new_candidates) < len(candidates):\n",
    "                            if len(new_candidates) == 1:\n",
    "                                board[row][col] = new_candidates.pop()\n",
    "                            changed = True\n",
    "    return changed  "
   ]
  },
  {
   "cell_type": "code",
   "execution_count": 14,
   "id": "f695b598-a678-49f0-bcda-c1afdac7dae2",
   "metadata": {},
   "outputs": [],
   "source": [
    "def naked_pair_box(board):\n",
    "    changed = False\n",
    "    for box_row in [0, 3, 6]:\n",
    "        for box_col in [0, 3, 6]:\n",
    "            candidate_map = {}\n",
    "            for i in range(box_row, box_row + 3):\n",
    "                for j in range(box_col, box_col + 3):\n",
    "                    if board[i][j] == 0:\n",
    "                        candidates = get_candidates(board, i, j)\n",
    "                        if len(candidates) == 2:\n",
    "                            key = tuple(sorted(candidates))\n",
    "                            candidate_map.setdefault(key, []).append((i, j))\n",
    "            for key, pos in candidate_map.items():\n",
    "                if len(pos) == 2:\n",
    "                    for row in range(box_row, box_row + 3):\n",
    "                        for col in range(box_col, box_col + 3):\n",
    "                            if (row, col) not in pos and board[row][col] == 0:\n",
    "                                candidates = get_candidates(board, row, col)\n",
    "                                new_candidates = candidates - set(key)\n",
    "                                if len(new_candidates) < len(candidates):\n",
    "                                    if len(new_candidates) == 1:\n",
    "                                        board[row][col] = new_candidates.pop()\n",
    "                                    changed = True\n",
    "    return changed"
   ]
  },
  {
   "cell_type": "code",
   "execution_count": 31,
   "id": "321449cc-99b2-4d10-b9a5-abe99d3cd09e",
   "metadata": {},
   "outputs": [
    {
     "data": {
      "text/plain": [
       "[[4, 8, 3, 9, 2, 1, 6, 5, 7],\n",
       " [9, 6, 7, 3, 4, 5, 8, 2, 1],\n",
       " [2, 5, 1, 8, 7, 6, 4, 9, 3],\n",
       " [5, 4, 8, 1, 3, 2, 9, 7, 6],\n",
       " [7, 2, 9, 5, 6, 4, 1, 3, 8],\n",
       " [1, 3, 6, 7, 9, 8, 2, 4, 5],\n",
       " [3, 7, 2, 6, 8, 9, 5, 1, 4],\n",
       " [8, 1, 4, 2, 5, 3, 7, 6, 9],\n",
       " [6, 9, 5, 4, 1, 7, 3, 8, 2]]"
      ]
     },
     "execution_count": 31,
     "metadata": {},
     "output_type": "execute_result"
    }
   ],
   "source": [
    "naked_pair(board10)"
   ]
  },
  {
   "cell_type": "code",
   "execution_count": 40,
   "id": "0268ac9c-476a-4e96-95b3-63711659ec67",
   "metadata": {},
   "outputs": [],
   "source": [
    "board_unsolvable_by_naked_pair = [\n",
    "    [0, 0, 5, 3, 0, 0, 0, 0, 0],\n",
    "    [8, 0, 0, 0, 0, 0, 0, 2, 0],\n",
    "    [0, 7, 0, 0, 1, 0, 5, 0, 0],\n",
    "    [4, 0, 0, 0, 0, 5, 3, 0, 0],\n",
    "    [0, 1, 0, 0, 7, 0, 0, 0, 6],\n",
    "    [0, 0, 3, 2, 0, 0, 0, 8, 0],\n",
    "    [0, 6, 0, 5, 0, 0, 0, 0, 9],\n",
    "    [0, 0, 4, 0, 0, 0, 0, 3, 0],\n",
    "    [0, 0, 0, 0, 0, 9, 7, 0, 0]\n",
    "]"
   ]
  },
  {
   "cell_type": "code",
   "execution_count": 41,
   "id": "5e959d2b-c8e1-48a7-b43d-9fea32f168e0",
   "metadata": {},
   "outputs": [
    {
     "data": {
      "text/plain": [
       "[[0, 0, 5, 3, 0, 0, 0, 0, 0],\n",
       " [8, 0, 0, 0, 0, 0, 0, 2, 0],\n",
       " [0, 7, 0, 0, 1, 0, 5, 0, 0],\n",
       " [4, 0, 0, 0, 0, 5, 3, 0, 0],\n",
       " [0, 1, 0, 0, 7, 0, 0, 0, 6],\n",
       " [0, 0, 3, 2, 0, 0, 0, 8, 0],\n",
       " [0, 6, 0, 5, 0, 0, 0, 0, 9],\n",
       " [0, 0, 4, 0, 0, 0, 0, 3, 0],\n",
       " [0, 0, 0, 0, 0, 9, 7, 0, 0]]"
      ]
     },
     "execution_count": 41,
     "metadata": {},
     "output_type": "execute_result"
    }
   ],
   "source": [
    "naked_pair(board_unsolvable_by_naked_pair)"
   ]
  },
  {
   "cell_type": "markdown",
   "id": "b39e4f5e-105c-49a1-9523-29a0abb9c23a",
   "metadata": {},
   "source": [
    "### Human Solving Strategies\n",
    "\n",
    "This function applies a combination of human-like logical strategies to simplify the Sudoku board before resorting to brute-force solving. The strategies are applied iteratively:\n",
    "\n",
    "- **Naked Singles**: Fills cells where only one candidate is possible.\n",
    "- **Hidden Singles**: Identifies unique candidate placements within rows, columns, or boxes.\n",
    "- **Naked Pairs**: Removes candidates based on pairs of cells with identical candidate sets.\n",
    "\n",
    "The loop runs with a maximum iteration limit (as a safety check) and stops when no further progress is possible.\n",
    "\n",
    "> This step might be useful for reducing the puzzle complexity and filling obvious values before applying backtracking."
   ]
  },
  {
   "cell_type": "code",
   "execution_count": 15,
   "id": "945e1976-ed31-418f-8ed8-58355ce61ecd",
   "metadata": {},
   "outputs": [],
   "source": [
    "def human_strategies(board, verbose=False):\n",
    "    max_iter = 100  # safety limit\n",
    "    for _ in range(max_iter):\n",
    "        if naked_singles(board):\n",
    "            continue\n",
    "        if hidden_singles(board):\n",
    "            continue\n",
    "        if naked_pair(board):\n",
    "            continue\n",
    "        break\n",
    "    return board"
   ]
  },
  {
   "cell_type": "code",
   "execution_count": 24,
   "id": "270f0ba9-c71b-4a8b-b309-b167000ab3ce",
   "metadata": {},
   "outputs": [],
   "source": [
    "medium_hard_board = [\n",
    "    [0, 0, 0, 2, 6, 0, 7, 0, 1],\n",
    "    [6, 8, 0, 0, 7, 0, 0, 9, 0],\n",
    "    [1, 9, 0, 0, 0, 4, 5, 0, 0],\n",
    "    [8, 2, 0, 1, 0, 0, 0, 4, 0],\n",
    "    [0, 0, 4, 6, 0, 2, 9, 0, 0],\n",
    "    [0, 5, 0, 0, 0, 3, 0, 2, 8],\n",
    "    [0, 0, 9, 3, 0, 0, 0, 7, 4],\n",
    "    [0, 4, 0, 0, 5, 0, 0, 3, 6],\n",
    "    [7, 0, 3, 0, 1, 8, 0, 0, 0]\n",
    "]"
   ]
  },
  {
   "cell_type": "code",
   "execution_count": 72,
   "id": "d23a5e4f-2d00-47df-8d75-68b9f1145a5d",
   "metadata": {},
   "outputs": [
    {
     "data": {
      "text/plain": [
       "[[4, 3, 5, 2, 6, 9, 7, 8, 1],\n",
       " [6, 8, 2, 5, 7, 1, 4, 9, 3],\n",
       " [1, 9, 7, 8, 3, 4, 5, 6, 2],\n",
       " [8, 2, 6, 1, 9, 5, 3, 4, 7],\n",
       " [3, 7, 4, 6, 8, 2, 9, 1, 5],\n",
       " [9, 5, 1, 7, 4, 3, 6, 2, 8],\n",
       " [5, 1, 9, 3, 2, 6, 8, 7, 4],\n",
       " [2, 4, 8, 9, 5, 7, 1, 3, 6],\n",
       " [7, 6, 3, 4, 1, 8, 2, 5, 9]]"
      ]
     },
     "execution_count": 72,
     "metadata": {},
     "output_type": "execute_result"
    }
   ],
   "source": [
    "human_strategies(medium_hard_board)"
   ]
  },
  {
   "cell_type": "code",
   "execution_count": 23,
   "id": "e223a867-04e4-4062-9805-12793ef465d0",
   "metadata": {},
   "outputs": [],
   "source": [
    "hardest_board = [\n",
    "    [0, 0, 0, 6, 0, 0, 4, 0, 0],\n",
    "    [7, 0, 0, 0, 0, 3, 6, 0, 0],\n",
    "    [0, 0, 0, 0, 9, 1, 0, 8, 0],\n",
    "    [0, 0, 0, 0, 0, 0, 0, 0, 0],\n",
    "    [0, 5, 0, 1, 8, 0, 0, 0, 3],\n",
    "    [0, 0, 0, 3, 0, 6, 0, 4, 5],\n",
    "    [0, 4, 0, 2, 0, 0, 0, 6, 0],\n",
    "    [9, 0, 3, 0, 0, 0, 0, 0, 0],\n",
    "    [0, 2, 0, 0, 0, 0, 1, 0, 0]\n",
    "]"
   ]
  },
  {
   "cell_type": "code",
   "execution_count": 23,
   "id": "f42bf09b-c923-42fc-80e9-c30b1a4d6e01",
   "metadata": {},
   "outputs": [
    {
     "data": {
      "text/plain": [
       "[[0, 0, 0, 6, 0, 0, 4, 0, 0],\n",
       " [7, 0, 0, 0, 0, 3, 6, 0, 0],\n",
       " [0, 0, 0, 0, 9, 1, 0, 8, 0],\n",
       " [0, 0, 0, 0, 0, 0, 0, 0, 0],\n",
       " [0, 5, 0, 1, 8, 0, 0, 0, 3],\n",
       " [0, 0, 0, 3, 0, 6, 0, 4, 5],\n",
       " [0, 4, 0, 2, 0, 0, 0, 6, 0],\n",
       " [9, 0, 3, 0, 0, 0, 0, 0, 0],\n",
       " [0, 2, 0, 0, 0, 0, 1, 0, 0]]"
      ]
     },
     "execution_count": 23,
     "metadata": {},
     "output_type": "execute_result"
    }
   ],
   "source": [
    "human_strategies(hardest_board)"
   ]
  },
  {
   "cell_type": "code",
   "execution_count": 26,
   "id": "f8d5197b-ca41-429f-849d-db7b54fde6f1",
   "metadata": {},
   "outputs": [],
   "source": [
    "easy_board = [\n",
    "    [5, 3, 0, 0, 7, 0, 0, 0, 0],\n",
    "    [6, 0, 0, 1, 9, 5, 0, 0, 0],\n",
    "    [0, 9, 8, 0, 0, 0, 0, 6, 0],\n",
    "    [8, 0, 0, 0, 6, 0, 0, 0, 3],\n",
    "    [4, 0, 0, 8, 0, 3, 0, 0, 1],\n",
    "    [7, 0, 0, 0, 2, 0, 0, 0, 6],\n",
    "    [0, 6, 0, 0, 0, 0, 2, 8, 0],\n",
    "    [0, 0, 0, 4, 1, 9, 0, 0, 5],\n",
    "    [0, 0, 0, 0, 8, 0, 0, 7, 9]\n",
    "]"
   ]
  },
  {
   "cell_type": "code",
   "execution_count": 98,
   "id": "a9840107-7a68-4889-bb89-1589355a3ccf",
   "metadata": {},
   "outputs": [
    {
     "data": {
      "text/plain": [
       "[[5, 3, 4, 6, 7, 8, 9, 1, 2],\n",
       " [6, 7, 2, 1, 9, 5, 3, 4, 8],\n",
       " [1, 9, 8, 3, 4, 2, 5, 6, 7],\n",
       " [8, 5, 9, 7, 6, 1, 4, 2, 3],\n",
       " [4, 2, 6, 8, 5, 3, 7, 9, 1],\n",
       " [7, 1, 3, 9, 2, 4, 8, 5, 6],\n",
       " [9, 6, 1, 5, 3, 7, 2, 8, 4],\n",
       " [2, 8, 7, 4, 1, 9, 6, 3, 5],\n",
       " [3, 4, 5, 2, 8, 6, 1, 7, 9]]"
      ]
     },
     "execution_count": 98,
     "metadata": {},
     "output_type": "execute_result"
    }
   ],
   "source": [
    "human_strategies(easy_board)"
   ]
  },
  {
   "cell_type": "markdown",
   "id": "a75af888-9993-4e70-ba82-2f26bba82f93",
   "metadata": {},
   "source": [
    "### Phase: Implementing Human Sudoku Solving Strategies\n",
    "\n",
    "##### Objective\n",
    "\n",
    "- Implemented logical human-like Sudoku solving techniques to reduce search space by filling obvious cells.\n",
    "- Strategies implemented:\n",
    "  - **Naked Singles**: Fill cells where only one candidate number is possible.\n",
    "  - **Hidden Singles**: Find cells where a candidate number appears uniquely in a row, column, or box.\n",
    "  - **Naked Pairs**: Identify pairs of cells in a row, column, or box sharing exactly two candidates, allowing elimination of these candidates from other cells.\n",
    "\n",
    "##### What I Did\n",
    "\n",
    "- Created functions for each strategy:\n",
    "  - `naked_single(board)`\n",
    "  - `hidden_single(board)`\n",
    "  - `naked_pair(board)` (including row, column, and box logic)\n",
    "- Integrated these strategies into a loop applying them repeatedly until no more changes.\n",
    "- Tested strategies on easy, medium, and medium-hard Sudoku boards.\n",
    "\n",
    "##### Observations\n",
    "\n",
    "- Human strategies fill many cells, especially on easier puzzles.\n",
    "- For medium-hard and hard puzzles, these strategies alone are insufficient to fully solve the board.\n",
    "- The solver stalls with only logical strategies when guessing or advanced techniques are needed.\n",
    "\n",
    "##### Learnings\n",
    "\n",
    "- Human strategies are powerful pruning methods but not complete solvers.\n",
    "- Backtracking guarantees a solution but can be computationally expensive.\n",
    "- Combining both approaches — using human strategies first, then backtracking could be most efficient method.\n",
    "\n",
    "##### Next Steps\n",
    "\n",
    "- Implement a hybrid solver that:\n",
    "  - Applies human strategies repeatedly to simplify the puzzle.\n",
    "  - Switches to backtracking when no further logical progress is possible.\n",
    "- This approach might balance speed and completeness in solving Sudoku puzzles.\n"
   ]
  },
  {
   "cell_type": "markdown",
   "id": "39b4bd2e-ba97-4be8-a622-5ea40543cb6a",
   "metadata": {},
   "source": [
    "## Transition to Heuristic Backtracking\n",
    "\n",
    "After implementing and testing human-style solving strategies — **naked singles**, **hidden singles**, and **naked pairs** — we observed that:\n",
    "\n",
    "- These techniques are effective for solving **easy** and **some medium** boards.\n",
    "- However, they are not sufficient to solve **hard or minimal-clue boards** on their own.\n",
    "- Some cells still require **guessing and deeper exploration**, which logical strategies alone cannot handle.\n",
    "\n",
    "To handle such cases, we now return to a more powerful approach — **backtracking** — but this time, we aim to make it **smarter and faster** by incorporating **heuristics** from **Constraint Satisfaction Problem (CSP)** techniques such as:\n",
    "\n",
    "- **MRV (Minimum Remaining Value)**: Choose the next empty cell with the fewest legal candidates.\n",
    "- **Forward Checking**: After assigning a value, eliminate it from the candidate sets of related cells.\n",
    "- **Combining with Human Strategies**: First use logic to reduce the puzzle, then apply backtracking only when necessary.\n",
    "\n",
    "> This hybrid approach aims to combine the **efficiency of human logic** with the **power of informed search**, resulting in a solver that is both **optimized** and **capable of handling all difficulty levels**.\n"
   ]
  },
  {
   "cell_type": "code",
   "execution_count": 17,
   "id": "d39b8f7a-fa0c-4661-8c18-a5550afd10b4",
   "metadata": {},
   "outputs": [],
   "source": [
    "def select_mrv_cell(board):\n",
    "    min_candidate = 10\n",
    "    selected_cell = None\n",
    "    for i in range(9):\n",
    "        for j in range(9):\n",
    "            if board[i][j] == 0:\n",
    "                candidates = get_candidates(board, i, j)\n",
    "                if len(candidates) < min_candidate:\n",
    "                    min_candidate = len(candidates)\n",
    "                    selected_cell = (i, j)\n",
    "    return selected_cell"
   ]
  },
  {
   "cell_type": "code",
   "execution_count": 18,
   "id": "9ea1982a-2787-4c0f-aaa2-07b823959ee8",
   "metadata": {},
   "outputs": [],
   "source": [
    "def mrv_is_valid(board, num, row, col):\n",
    "    for j in range(9):\n",
    "        if board[row][j] == num:\n",
    "            return False\n",
    "    for i in range(9):\n",
    "        if board[i][col] == num:\n",
    "            return False\n",
    "    box_start_row = row - (row % 3)\n",
    "    box_start_col = col - (col % 3)\n",
    "    for i in range(box_start_row, box_start_row + 3):\n",
    "        for j in range(box_start_col, box_start_col + 3):\n",
    "            if board[i][j] == num:\n",
    "                return False\n",
    "    return True"
   ]
  },
  {
   "cell_type": "code",
   "execution_count": 35,
   "id": "3a2dcd86-36df-48f9-97d5-806b9556e3ad",
   "metadata": {},
   "outputs": [],
   "source": [
    "def mrv_solver(board):\n",
    "    pos = select_mrv_cell(board)\n",
    "    if pos is None:\n",
    "        print(\"Board is Solved\")\n",
    "        return True\n",
    "    row, col = pos\n",
    "    for num in get_candidates(board, row, col):\n",
    "        if mrv_is_valid(board, num, row, col):\n",
    "            board[row][col] = num\n",
    "            if mrv_solver(board):\n",
    "                return True\n",
    "            board[row][col] = 0\n",
    "    return False            "
   ]
  },
  {
   "cell_type": "code",
   "execution_count": 36,
   "id": "ed9a4450-85bc-4ece-9dc1-d3a57e32633a",
   "metadata": {},
   "outputs": [],
   "source": [
    "def solve_with_mrv(board):\n",
    "    if mrv_solver(board):\n",
    "        return board\n",
    "    return False"
   ]
  },
  {
   "cell_type": "code",
   "execution_count": 42,
   "id": "3caf6489-9004-48e8-b30a-a014615df9d9",
   "metadata": {},
   "outputs": [
    {
     "name": "stdout",
     "output_type": "stream",
     "text": [
      "Board is Solved\n"
     ]
    },
    {
     "data": {
      "text/plain": [
       "[[5, 8, 1, 6, 7, 2, 4, 3, 9],\n",
       " [7, 9, 2, 8, 4, 3, 6, 5, 1],\n",
       " [3, 6, 4, 5, 9, 1, 7, 8, 2],\n",
       " [4, 3, 8, 9, 5, 7, 2, 1, 6],\n",
       " [2, 5, 6, 1, 8, 4, 9, 7, 3],\n",
       " [1, 7, 9, 3, 2, 6, 8, 4, 5],\n",
       " [8, 4, 5, 2, 1, 9, 3, 6, 7],\n",
       " [9, 1, 3, 7, 6, 8, 5, 2, 4],\n",
       " [6, 2, 7, 4, 3, 5, 1, 9, 8]]"
      ]
     },
     "execution_count": 42,
     "metadata": {},
     "output_type": "execute_result"
    }
   ],
   "source": [
    "solve_with_mrv(hardest_board)"
   ]
  },
  {
   "cell_type": "code",
   "execution_count": 45,
   "id": "c333e770-5679-4ce4-8b4f-36ca5a8c28da",
   "metadata": {},
   "outputs": [],
   "source": [
    "board_X = [\n",
    "    [1, 0, 0, 0, 0, 7, 0, 9, 0],\n",
    "    [0, 3, 0, 0, 2, 0, 0, 0, 8],\n",
    "    [0, 0, 9, 6, 0, 0, 5, 0, 0],\n",
    "    [0, 0, 5, 3, 0, 0, 9, 0, 0],\n",
    "    [0, 1, 0, 0, 8, 0, 0, 0, 2],\n",
    "    [6, 0, 0, 0, 0, 4, 0, 0, 0],\n",
    "    [3, 0, 0, 0, 0, 0, 0, 1, 0],\n",
    "    [0, 4, 1, 0, 0, 0, 0, 0, 7],\n",
    "    [0, 0, 7, 0, 0, 0, 3, 0, 0]\n",
    "]"
   ]
  },
  {
   "cell_type": "code",
   "execution_count": 46,
   "id": "01feac39-bbda-4e1a-a60b-2dd78024fd63",
   "metadata": {},
   "outputs": [
    {
     "name": "stdout",
     "output_type": "stream",
     "text": [
      "Board is Solved\n"
     ]
    },
    {
     "data": {
      "text/plain": [
       "[[1, 6, 2, 8, 5, 7, 4, 9, 3],\n",
       " [5, 3, 4, 1, 2, 9, 6, 7, 8],\n",
       " [7, 8, 9, 6, 4, 3, 5, 2, 1],\n",
       " [4, 7, 5, 3, 1, 2, 9, 8, 6],\n",
       " [9, 1, 3, 5, 8, 6, 7, 4, 2],\n",
       " [6, 2, 8, 7, 9, 4, 1, 3, 5],\n",
       " [3, 5, 6, 4, 7, 8, 2, 1, 9],\n",
       " [2, 4, 1, 9, 3, 5, 8, 6, 7],\n",
       " [8, 9, 7, 2, 6, 1, 3, 5, 4]]"
      ]
     },
     "execution_count": 46,
     "metadata": {},
     "output_type": "execute_result"
    }
   ],
   "source": [
    "solve_with_mrv(board_X)"
   ]
  },
  {
   "cell_type": "code",
   "execution_count": 64,
   "id": "2efaabcd-bcf1-4078-b6e7-bb13912080e9",
   "metadata": {},
   "outputs": [],
   "source": [
    "board_with_one_element = [\n",
    "    [0, 0, 0, 0, 0, 0, 0, 0, 0],\n",
    "    [0, 0, 0, 0, 0, 0, 0, 0, 0],\n",
    "    [0, 0, 0, 0, 0, 0, 0, 0, 0],\n",
    "    [0, 0, 0, 0, 0, 0, 0, 0, 0],\n",
    "    [0, 0, 0, 0, 0, 0, 0, 0, 0],\n",
    "    [0, 0, 0, 8, 0, 0, 0, 0, 0],\n",
    "    [0, 0, 0, 0, 0, 0, 0, 0, 0],\n",
    "    [0, 0, 0, 0, 0, 0, 0, 0, 0],\n",
    "    [0, 0, 0, 0, 0, 0, 0, 0, 0]\n",
    "]"
   ]
  },
  {
   "cell_type": "code",
   "execution_count": 66,
   "id": "169c917b-8034-41c3-acb7-8d1742a226bf",
   "metadata": {},
   "outputs": [
    {
     "name": "stdout",
     "output_type": "stream",
     "text": [
      "Board is Solved\n"
     ]
    },
    {
     "data": {
      "text/plain": [
       "[[1, 2, 3, 4, 5, 6, 7, 8, 9],\n",
       " [4, 5, 6, 7, 8, 9, 1, 2, 3],\n",
       " [7, 8, 9, 1, 2, 3, 4, 5, 6],\n",
       " [2, 1, 4, 3, 6, 5, 8, 9, 7],\n",
       " [3, 6, 8, 2, 9, 7, 5, 1, 4],\n",
       " [5, 9, 7, 8, 1, 4, 3, 6, 2],\n",
       " [6, 3, 1, 5, 4, 2, 9, 7, 8],\n",
       " [8, 4, 2, 9, 7, 1, 6, 3, 5],\n",
       " [9, 7, 5, 6, 3, 8, 2, 4, 1]]"
      ]
     },
     "execution_count": 66,
     "metadata": {},
     "output_type": "execute_result"
    }
   ],
   "source": [
    "solve_with_mrv(board_with_one_element)"
   ]
  },
  {
   "cell_type": "code",
   "execution_count": null,
   "id": "ed8835a9-480e-4fc4-8072-fb5c81c93f13",
   "metadata": {},
   "outputs": [],
   "source": []
  }
 ],
 "metadata": {
  "kernelspec": {
   "display_name": "Python 3 (ipykernel)",
   "language": "python",
   "name": "python3"
  },
  "language_info": {
   "codemirror_mode": {
    "name": "ipython",
    "version": 3
   },
   "file_extension": ".py",
   "mimetype": "text/x-python",
   "name": "python",
   "nbconvert_exporter": "python",
   "pygments_lexer": "ipython3",
   "version": "3.12.4"
  }
 },
 "nbformat": 4,
 "nbformat_minor": 5
}
