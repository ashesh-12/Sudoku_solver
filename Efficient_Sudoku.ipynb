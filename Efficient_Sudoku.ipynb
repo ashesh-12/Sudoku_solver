{
 "cells": [
  {
   "cell_type": "markdown",
   "id": "3dfcee3f-45b2-48a6-83cb-83646f69e115",
   "metadata": {},
   "source": [
    "# Efficient Sudoku Solver"
   ]
  },
  {
   "cell_type": "markdown",
   "id": "16f3d3a3-57ae-469d-ad5d-9571ccb7b152",
   "metadata": {},
   "source": [
    "### Candidate Initialization & Board State Representation\n",
    "\n",
    "This section defines the data structures and functions used to initialize candidate numbers for each cell in the Sudoku board:\n",
    "\n",
    "- `box_index(r, c)`: Computes the box index (0–8) for a given cell.\n",
    "- `init_candidates(board)`: Creates a 9×9 grid of sets representing possible candidates for each cell."
   ]
  },
  {
   "cell_type": "code",
   "execution_count": 91,
   "id": "59f7aae5-f33d-4671-bfbe-f29d879c5992",
   "metadata": {},
   "outputs": [],
   "source": [
    "def box_index(r, c):\n",
    "    return (r // 3) * 3 + (c // 3)\n",
    "\n",
    "def init_candidates(board):\n",
    "    digits = set(range(1, 10))\n",
    "    rows = [set() for _ in range(9)]\n",
    "    cols = [set() for _ in range(9)]\n",
    "    boxes = [set() for _ in range(9)]\n",
    "\n",
    "    for i in range(9):\n",
    "        for j in range(9):\n",
    "            v = board[i][j]\n",
    "            if v != 0:\n",
    "                rows[i].add(v)\n",
    "                cols[j].add(v)\n",
    "                boxes[box_index(i, j)].add(v)\n",
    "\n",
    "    candidates = [[set() for _ in range(9)] for _ in range(9)]\n",
    "    for i in range(9):\n",
    "        for j in range(9):\n",
    "            if board[i][j] == 0: \n",
    "                used = rows[i] | cols[j] | boxes[box_index(i, j)]\n",
    "                candidates[i][j] = digits - used\n",
    "            else:  \n",
    "                candidates[i][j] = {board[i][j]}\n",
    "    return candidates"
   ]
  },
  {
   "cell_type": "code",
   "execution_count": 92,
   "id": "5cb676b4-aec7-4da0-b270-08805a78d20a",
   "metadata": {},
   "outputs": [],
   "source": [
    "board1 = [\n",
    "    [5, 3, 0, 0, 7, 0, 0, 0, 0],\n",
    "    [6, 0, 0, 1, 9, 5, 0, 0, 0],\n",
    "    [0, 9, 8, 0, 0, 0, 0, 6, 0],\n",
    "    [8, 0, 0, 0, 6, 0, 0, 0, 3],\n",
    "    [4, 0, 0, 8, 0, 3, 0, 0, 1],\n",
    "    [7, 0, 0, 0, 2, 0, 0, 0, 6],\n",
    "    [0, 6, 0, 0, 0, 0, 2, 8, 0],\n",
    "    [0, 0, 0, 4, 1, 9, 0, 0, 5],\n",
    "    [0, 0, 0, 0, 8, 0, 0, 7, 9]\n",
    "]"
   ]
  },
  {
   "cell_type": "code",
   "execution_count": 93,
   "id": "bd79dbed-6a3e-4dd7-b5ea-800c406bc78f",
   "metadata": {},
   "outputs": [
    {
     "name": "stdout",
     "output_type": "stream",
     "text": [
      "[{5}, {3}, {1, 2, 4}, {2, 6}, {7}, {8, 2, 4, 6}, {8, 1, 4, 9}, {1, 2, 4, 9}, {8, 2, 4}]\n",
      "[{6}, {2, 4, 7}, {2, 4, 7}, {1}, {9}, {5}, {8, 3, 4, 7}, {2, 3, 4}, {8, 2, 4, 7}]\n",
      "[{1, 2}, {9}, {8}, {2, 3}, {3, 4}, {2, 4}, {1, 3, 4, 5, 7}, {6}, {2, 4, 7}]\n",
      "[{8}, {1, 2, 5}, {1, 2, 5, 9}, {9, 5, 7}, {6}, {1, 4, 7}, {9, 4, 5, 7}, {9, 2, 4, 5}, {3}]\n",
      "[{4}, {2, 5}, {9, 2, 5, 6}, {8}, {5}, {3}, {9, 5, 7}, {9, 2, 5}, {1}]\n",
      "[{7}, {1, 5}, {1, 3, 5, 9}, {9, 5}, {2}, {1, 4}, {8, 9, 4, 5}, {9, 4, 5}, {6}]\n",
      "[{1, 3, 9}, {6}, {1, 3, 4, 5, 7, 9}, {3, 5, 7}, {3, 5}, {7}, {2}, {8}, {4}]\n",
      "[{2, 3}, {8, 2, 7}, {2, 3, 7}, {4}, {1}, {9}, {3, 6}, {3}, {5}]\n",
      "[{1, 2, 3}, {1, 2, 4, 5}, {1, 2, 3, 4, 5}, {2, 3, 5, 6}, {8}, {2, 6}, {1, 3, 4, 6}, {7}, {9}]\n"
     ]
    }
   ],
   "source": [
    "candidates = init_candidates(board1)\n",
    "for row in candidates:\n",
    "    print(row)"
   ]
  },
  {
   "cell_type": "code",
   "execution_count": 94,
   "id": "a2fed1d5-d473-4aff-b9a6-53b5fb7eb9f1",
   "metadata": {},
   "outputs": [
    {
     "name": "stdout",
     "output_type": "stream",
     "text": [
      "Total units: 27\n",
      "First row unit: [(0, 0), (0, 1), (0, 2), (0, 3), (0, 4), (0, 5), (0, 6), (0, 7), (0, 8)]\n",
      "First box unit: [(0, 0), (0, 1), (0, 2), (1, 0), (1, 1), (1, 2), (2, 0), (2, 1), (2, 2)]\n"
     ]
    }
   ],
   "source": [
    "def generate_units():\n",
    "    units = []\n",
    "\n",
    "    # Rows\n",
    "    for r in range(9):\n",
    "        units.append([(r, c) for c in range(9)])\n",
    "\n",
    "    # Columns\n",
    "    for c in range(9):\n",
    "        units.append([(r, c) for r in range(9)])\n",
    "\n",
    "    # Boxes\n",
    "    for box_row in range(3):\n",
    "        for box_col in range(3):\n",
    "            units.append([\n",
    "                (r, c)\n",
    "                for r in range(box_row * 3, box_row * 3 + 3)\n",
    "                for c in range(box_col * 3, box_col * 3 + 3)\n",
    "            ])\n",
    "    return units\n",
    "\n",
    "units = generate_units()\n",
    "print(f\"Total units: {len(units)}\") \n",
    "print(\"First row unit:\", units[0])\n",
    "print(\"First box unit:\", units[18])\n",
    "\n",
    "# Total units = 27 (9 rows + 9 columns + 9 boxes).\n",
    "\n",
    "# Indexing order:\n",
    "# 0–8 → rows\n",
    "# 9–17 → columns\n",
    "# 18–26 → boxes"
   ]
  },
  {
   "cell_type": "markdown",
   "id": "590f805a-dc90-4830-839f-1febe1b1a9a3",
   "metadata": {},
   "source": [
    "### Candidate Elimination After Assignment\r\n",
    "\r\n",
    "This function updates the candidate sets after a number is placed in a cell:\r\n",
    "\r\n",
    "- `eliminate_from_others(candidates, row, col, val)`:\r\n",
    "  - Removes `val` from all candidate sets in the same row, column, and 3×3 box, except the cell itegies.\r\n"
   ]
  },
  {
   "cell_type": "code",
   "execution_count": 95,
   "id": "1b9227cb-8ae7-48d9-8911-040a65779c16",
   "metadata": {},
   "outputs": [],
   "source": [
    "def eliminate_from_others(candidates, row, col, val):\n",
    " \n",
    "    for c in range(9):\n",
    "        if c != col:\n",
    "            candidates[row][c].discard(val)\n",
    "\n",
    "    for r in range(9):\n",
    "        if r != row:\n",
    "            candidates[r][col].discard(val)\n",
    "\n",
    "    box_r, box_c = row // 3 * 3, col // 3 * 3\n",
    "    for r in range(box_r, box_r + 3):\n",
    "        for c in range(box_c, box_c + 3):\n",
    "            if (r, c) != (row, col):\n",
    "                candidates[r][c].discard(val)"
   ]
  },
  {
   "cell_type": "markdown",
   "id": "72ae9bd1-9175-4e55-b11a-6d3d04d08b74",
   "metadata": {},
   "source": [
    "### Phase 1: Human Strategies Solver\n",
    "\n",
    "This function implements the **first phase** of the Sudoku solver using human-style logical strategies"
   ]
  },
  {
   "cell_type": "code",
   "execution_count": 96,
   "id": "44c48b6c-efff-4dbc-8875-6ab723f62f78",
   "metadata": {},
   "outputs": [],
   "source": [
    "def naked_singles(board, candidates):\n",
    "    changed = False  \n",
    "\n",
    "    for i in range(9):\n",
    "        for j in range(9):\n",
    "            if board[i][j] == 0 and len(candidates[i][j]) == 1:\n",
    "                val = next(iter(candidates[i][j]))\n",
    "                board[i][j] = val\n",
    "                candidates[i][j] = {val}  \n",
    "                eliminate_from_others(candidates, i, j, val)\n",
    "                changed = True\n",
    "\n",
    "    return changed  "
   ]
  },
  {
   "cell_type": "code",
   "execution_count": 97,
   "id": "55336391-9f53-4471-9526-07007f884aad",
   "metadata": {},
   "outputs": [],
   "source": [
    "def hidden_singles(board, candidates, units):\n",
    "    changed = False \n",
    "\n",
    "    for unit in units:\n",
    "        pos_map = {n: [] for n in range(1, 10)}\n",
    "        for (r, c) in unit:\n",
    "            if board[r][c] == 0:\n",
    "                for num in candidates[r][c]:\n",
    "                    pos_map[num].append((r, c))\n",
    "\n",
    "        for num, positions in pos_map.items():\n",
    "            if len(positions) == 1:\n",
    "                r, c = positions[0]\n",
    "                board[r][c] = num\n",
    "                candidates[r][c] = {num}  \n",
    "                eliminate_from_others(candidates, r, c, num)\n",
    "                changed = True\n",
    "\n",
    "    return changed"
   ]
  },
  {
   "cell_type": "code",
   "execution_count": 98,
   "id": "d271a7c3-3d46-4c8d-9fb4-201ca5328c0b",
   "metadata": {},
   "outputs": [],
   "source": [
    "def naked_n(board, candidates, units, max_n=4):\n",
    "    changed = False\n",
    "    for N in range(2, max_n + 1):\n",
    "        for unit in units:\n",
    "            candidate_map = {}\n",
    "            for r, c in unit:\n",
    "                if board[r][c] == 0 and 1 <= len(candidates[r][c]) <= N:\n",
    "                    key = tuple(sorted(candidates[r][c]))\n",
    "                    candidate_map.setdefault(key, []).append((r, c))\n",
    "            \n",
    "            for key, positions in candidate_map.items():\n",
    "                if len(key) == len(positions) == N:  \n",
    "                    for r, c in unit:\n",
    "                        if (r, c) not in positions and board[r][c] == 0:\n",
    "                            before = len(candidates[r][c])\n",
    "                            candidates[r][c] -= set(key)\n",
    "                            if len(candidates[r][c]) == 1:\n",
    "                                val = next(iter(candidates[r][c]))\n",
    "                                board[r][c] = val\n",
    "                                eliminate_from_others(candidates, r, c, val)\n",
    "                                changed = True\n",
    "                            elif len(candidates[r][c]) < before:\n",
    "                                changed = True\n",
    "    return changed"
   ]
  },
  {
   "cell_type": "markdown",
   "id": "8de16a32-479e-40bb-989c-45cd925b1dbe",
   "metadata": {},
   "source": [
    "- `solve_first_phase(board)`:\n",
    "  - Initializes candidate sets for each cell using `init_candidates`.\n",
    "  - Generates all units (rows, columns, boxes) using `generate_units`.\n",
    "  - Iteratively applies deterministic strategies until no further progress:\n",
    "    - **Naked Singles**: Fill cells with only one candidate.\n",
    "    - **Hidden Singles**: Fill numbers that appear in only one cell within a unit.\n",
    "    - **Naked N-tuples**: Remove candidates based on pairs, triples, or quads within a unit (`max_n=4` by default).\n",
    "  - Returns the updated board and candidate sets for Phase 2."
   ]
  },
  {
   "cell_type": "code",
   "execution_count": 99,
   "id": "e97bd25c-bf1e-4d84-b446-327214ec3389",
   "metadata": {},
   "outputs": [],
   "source": [
    "def solve_first_phase(board):\n",
    "\n",
    "    candidates = init_candidates(board)\n",
    "    units = generate_units()\n",
    "    \n",
    "    changed = True\n",
    "    while changed:\n",
    "        changed = False\n",
    "        \n",
    "        # Naked Singles\n",
    "        if naked_singles(board, candidates):\n",
    "            changed = True\n",
    "        \n",
    "        # Hidden Singles\n",
    "        if hidden_singles(board, candidates, units):\n",
    "            changed = True\n",
    "        \n",
    "        # Naked \n",
    "        if naked_n(board, candidates, units, max_n=4):\n",
    "            changed = True\n",
    "    \n",
    "    return board, candidates"
   ]
  },
  {
   "cell_type": "code",
   "execution_count": 100,
   "id": "15700a57-b0af-400a-9215-daa7519fd34b",
   "metadata": {},
   "outputs": [],
   "source": [
    "board17 = [\n",
    "    [0,4,0,0,0,0,0,8,0],\n",
    "    [0,0,7,0,0,0,0,6,0],\n",
    "    [0,0,0,0,1,0,0,0,0],\n",
    "    [4,1,0,0,0,0,2,0,0],\n",
    "    [0,0,0,0,0,5,0,0,0],\n",
    "    [0,3,0,0,0,0,0,0,0],\n",
    "    [0,0,6,0,0,7,0,0,3],\n",
    "    [0,0,5,8,0,6,0,0,0],\n",
    "    [0,0,0,0,0,0,0,0,1]\n",
    "]"
   ]
  },
  {
   "cell_type": "code",
   "execution_count": 82,
   "id": "1bb07695-f06d-4781-8510-a55b43589b52",
   "metadata": {},
   "outputs": [
    {
     "data": {
      "text/plain": [
       "[[6, 4, 1, 5, 7, 2, 3, 8, 9],\n",
       " [2, 5, 7, 9, 8, 3, 1, 6, 4],\n",
       " [8, 9, 3, 6, 1, 4, 5, 2, 7],\n",
       " [4, 1, 9, 7, 6, 8, 2, 3, 5],\n",
       " [7, 6, 2, 3, 9, 5, 4, 1, 8],\n",
       " [5, 3, 8, 4, 2, 1, 7, 9, 6],\n",
       " [9, 2, 6, 1, 4, 7, 8, 5, 3],\n",
       " [1, 7, 5, 8, 3, 6, 9, 4, 2],\n",
       " [3, 8, 4, 2, 5, 9, 6, 7, 1]]"
      ]
     },
     "execution_count": 82,
     "metadata": {},
     "output_type": "execute_result"
    }
   ],
   "source": [
    "solve_first_phase(board17)"
   ]
  },
  {
   "cell_type": "code",
   "execution_count": 101,
   "id": "45e92107-ba86-4f42-9abe-d7f210a7c136",
   "metadata": {},
   "outputs": [],
   "source": [
    "board2 = [\n",
    "    [0, 0, 3, 0, 2, 0, 6, 0, 0],\n",
    "    [9, 0, 0, 3, 0, 5, 0, 0, 1],\n",
    "    [0, 0, 1, 8, 0, 6, 4, 0, 0],\n",
    "    [0, 0, 8, 1, 0, 2, 9, 0, 0],\n",
    "    [7, 0, 0, 0, 0, 0, 0, 0, 8],\n",
    "    [0, 0, 6, 7, 0, 8, 2, 0, 0],\n",
    "    [0, 0, 2, 6, 0, 9, 5, 0, 0],\n",
    "    [8, 0, 0, 2, 0, 3, 0, 0, 9],\n",
    "    [0, 0, 5, 0, 1, 0, 3, 0, 0]\n",
    "]"
   ]
  },
  {
   "cell_type": "code",
   "execution_count": 84,
   "id": "f62558c0-041c-416f-9094-707591b99c24",
   "metadata": {},
   "outputs": [
    {
     "data": {
      "text/plain": [
       "[[4, 8, 3, 9, 2, 1, 6, 5, 7],\n",
       " [9, 6, 7, 3, 4, 5, 8, 2, 1],\n",
       " [2, 5, 1, 8, 7, 6, 4, 9, 3],\n",
       " [5, 4, 8, 1, 3, 2, 9, 7, 6],\n",
       " [7, 2, 9, 5, 6, 4, 1, 3, 8],\n",
       " [1, 3, 6, 7, 9, 8, 2, 4, 5],\n",
       " [3, 7, 2, 6, 8, 9, 5, 1, 4],\n",
       " [8, 1, 4, 2, 5, 3, 7, 6, 9],\n",
       " [6, 9, 5, 4, 1, 7, 3, 8, 2]]"
      ]
     },
     "execution_count": 84,
     "metadata": {},
     "output_type": "execute_result"
    }
   ],
   "source": [
    "solve_first_phase(board2)"
   ]
  },
  {
   "cell_type": "code",
   "execution_count": 102,
   "id": "d343d79c-c804-4817-ab02-4b8b94b2b780",
   "metadata": {},
   "outputs": [],
   "source": [
    "board3 = [\n",
    "    [0, 0, 0, 0, 0, 0, 2, 0, 0],\n",
    "    [0, 8, 0, 0, 0, 7, 0, 9, 0],\n",
    "    [6, 0, 2, 0, 0, 0, 5, 0, 0],\n",
    "    [0, 7, 0, 0, 6, 0, 0, 0, 0],\n",
    "    [0, 0, 0, 9, 0, 1, 0, 0, 0],\n",
    "    [0, 0, 0, 0, 2, 0, 0, 4, 0],\n",
    "    [0, 0, 5, 0, 0, 0, 6, 0, 3],\n",
    "    [0, 9, 0, 4, 0, 0, 0, 7, 0],\n",
    "    [0, 0, 6, 0, 0, 0, 0, 0, 0]\n",
    "]"
   ]
  },
  {
   "cell_type": "code",
   "execution_count": 86,
   "id": "46baa934-318f-45e5-8172-3f5ef7ef32da",
   "metadata": {},
   "outputs": [
    {
     "data": {
      "text/plain": [
       "[[9, 0, 7, 6, 0, 0, 2, 0, 0],\n",
       " [0, 8, 0, 2, 0, 7, 0, 9, 6],\n",
       " [6, 0, 2, 0, 0, 0, 5, 0, 7],\n",
       " [0, 7, 0, 0, 6, 0, 0, 0, 0],\n",
       " [0, 0, 0, 9, 0, 1, 0, 6, 0],\n",
       " [0, 6, 0, 0, 2, 0, 0, 4, 0],\n",
       " [0, 0, 5, 0, 0, 0, 6, 0, 3],\n",
       " [0, 9, 0, 4, 0, 6, 0, 7, 0],\n",
       " [0, 0, 6, 0, 0, 0, 0, 0, 0]]"
      ]
     },
     "execution_count": 86,
     "metadata": {},
     "output_type": "execute_result"
    }
   ],
   "source": [
    "solve_first_phase(board3)"
   ]
  },
  {
   "cell_type": "code",
   "execution_count": 103,
   "id": "0627e420-c660-4362-8232-803db4416b15",
   "metadata": {},
   "outputs": [],
   "source": [
    "boardX = [\n",
    "    [0,0,0,8,0,1,0,0,0],\n",
    "    [0,0,0,0,0,0,4,3,0],\n",
    "    [5,0,0,0,0,0,0,0,0],\n",
    "    [0,0,0,0,7,0,8,0,0],\n",
    "    [0,0,0,0,0,0,1,0,0],\n",
    "    [0,2,0,0,3,0,0,0,0],\n",
    "    [6,0,0,0,0,0,0,7,5],\n",
    "    [0,0,3,4,0,0,0,0,0],\n",
    "    [0,0,0,2,0,0,6,0,0]\n",
    "]"
   ]
  },
  {
   "cell_type": "code",
   "execution_count": 88,
   "id": "23cd0daa-7308-4f74-b47c-0c0d6cd52d87",
   "metadata": {},
   "outputs": [
    {
     "data": {
      "text/plain": [
       "[[0, 0, 0, 8, 0, 1, 0, 0, 0],\n",
       " [0, 0, 0, 7, 0, 5, 4, 3, 0],\n",
       " [5, 0, 0, 3, 0, 6, 0, 0, 0],\n",
       " [0, 0, 0, 0, 7, 0, 8, 0, 0],\n",
       " [0, 0, 0, 0, 8, 0, 1, 0, 0],\n",
       " [0, 2, 0, 0, 3, 0, 0, 0, 0],\n",
       " [6, 4, 2, 9, 1, 8, 3, 7, 5],\n",
       " [0, 5, 3, 4, 6, 7, 0, 0, 0],\n",
       " [0, 0, 0, 2, 5, 3, 6, 0, 0]]"
      ]
     },
     "execution_count": 88,
     "metadata": {},
     "output_type": "execute_result"
    }
   ],
   "source": [
    "solve_first_phase(boardX)"
   ]
  },
  {
   "cell_type": "markdown",
   "id": "1a4852a8-0208-4856-a9f0-00baf7c74307",
   "metadata": {},
   "source": [
    "### Phase 2: MRV Backtracking Solver\n",
    "\n",
    "This function implements the **second phase** of the Sudoku solver using **recursive backtracking with MRV (Minimum Remaining Values)**:"
   ]
  },
  {
   "cell_type": "code",
   "execution_count": 104,
   "id": "d48a9288-dad7-4843-8657-fc983c9f6822",
   "metadata": {},
   "outputs": [],
   "source": [
    "def select_mrv_cell(board, candidates):\n",
    "    min_len = 10\n",
    "    target_cell = None\n",
    "    for r in range(9):\n",
    "        for c in range(9):\n",
    "            if board[r][c] == 0:\n",
    "                cand_len = len(candidates[r][c])\n",
    "                if cand_len < min_len:\n",
    "                    min_len = cand_len\n",
    "                    target_cell = (r, c)\n",
    "    return target_cell"
   ]
  },
  {
   "cell_type": "markdown",
   "id": "b609bcdb-af7f-4cae-8ab5-93f66796f725",
   "metadata": {},
   "source": [
    "- `solve_second_phase(board)`:\r\n",
    "  - Propagates **Phase 1** first to fill all deterministic cells.\r\n",
    "  - Uses **MRV heuristic** to select the empty cell with the fewest candidates.\r\n",
    "  - Tries each candidate for that cell:\r\n",
    "    - Makes a **copy of the board and candidates**.\r\n",
    "    - Assigns the candidate and updates the peers using `eliminate_from_others`.\r\n",
    "    - Propagates **Phase 1** again to capture new deterministic opportunities.\r\n",
    "    - Recursively calls itself to continue solving.\r\n",
    "    - If a solution is found, returns the solved board.\r\n",
    "  - If no candidate works, returns `False`."
   ]
  },
  {
   "cell_type": "code",
   "execution_count": 109,
   "id": "1a8cf47f-1ded-40f3-946e-ae79e130c3f7",
   "metadata": {},
   "outputs": [],
   "source": [
    "def solve_second_phase(board):\n",
    "    units = generate_units()\n",
    "    \n",
    "    board, candidates = solve_first_phase(board)\n",
    "\n",
    "    cell = select_mrv_cell(board, candidates)\n",
    "    if not cell:\n",
    "        return board \n",
    "\n",
    "    r, c = cell\n",
    "    for val in sorted(candidates[r][c]):\n",
    "        board_copy = [row[:] for row in board]\n",
    "        candidates_copy = [row[:] for row in candidates]\n",
    "\n",
    "        board_copy[r][c] = val\n",
    "        candidates_copy[r][c] = {val}\n",
    "        eliminate_from_others(candidates_copy, r, c, val)\n",
    "\n",
    "        board_copy, candidates_copy = solve_first_phase(board_copy)\n",
    "\n",
    "        solved = solve_second_phase(board_copy)\n",
    "        if solved:  \n",
    "            return solved\n",
    "\n",
    "    return False  "
   ]
  },
  {
   "cell_type": "code",
   "execution_count": 111,
   "id": "1125c99f-29f5-49b8-9090-c49d5efd7b1b",
   "metadata": {},
   "outputs": [
    {
     "data": {
      "text/plain": [
       "[[5, 3, 4, 6, 7, 8, 9, 1, 2],\n",
       " [6, 7, 2, 1, 9, 5, 3, 4, 8],\n",
       " [1, 9, 8, 3, 4, 2, 5, 6, 7],\n",
       " [8, 5, 9, 7, 6, 1, 4, 2, 3],\n",
       " [4, 2, 6, 8, 5, 3, 7, 9, 1],\n",
       " [7, 1, 3, 9, 2, 4, 8, 5, 6],\n",
       " [9, 6, 1, 5, 3, 7, 2, 8, 4],\n",
       " [2, 8, 7, 4, 1, 9, 6, 3, 5],\n",
       " [3, 4, 5, 2, 8, 6, 1, 7, 9]]"
      ]
     },
     "execution_count": 111,
     "metadata": {},
     "output_type": "execute_result"
    }
   ],
   "source": [
    "solve_second_phase(board1)"
   ]
  },
  {
   "cell_type": "code",
   "execution_count": 112,
   "id": "6d401f76-8f9c-49d5-af23-60218de6517d",
   "metadata": {},
   "outputs": [
    {
     "data": {
      "text/plain": [
       "[[6, 4, 1, 5, 7, 2, 3, 8, 9],\n",
       " [2, 5, 7, 9, 8, 3, 1, 6, 4],\n",
       " [8, 9, 3, 6, 1, 4, 5, 2, 7],\n",
       " [4, 1, 9, 7, 6, 8, 2, 3, 5],\n",
       " [7, 6, 2, 3, 9, 5, 4, 1, 8],\n",
       " [5, 3, 8, 4, 2, 1, 7, 9, 6],\n",
       " [9, 2, 6, 1, 4, 7, 8, 5, 3],\n",
       " [1, 7, 5, 8, 3, 6, 9, 4, 2],\n",
       " [3, 8, 4, 2, 5, 9, 6, 7, 1]]"
      ]
     },
     "execution_count": 112,
     "metadata": {},
     "output_type": "execute_result"
    }
   ],
   "source": [
    "solve_second_phase(board17)"
   ]
  },
  {
   "cell_type": "code",
   "execution_count": 113,
   "id": "07429d0d-560d-476b-8a75-62e9245fdd99",
   "metadata": {},
   "outputs": [
    {
     "data": {
      "text/plain": [
       "[[4, 8, 3, 9, 2, 1, 6, 5, 7],\n",
       " [9, 6, 7, 3, 4, 5, 8, 2, 1],\n",
       " [2, 5, 1, 8, 7, 6, 4, 9, 3],\n",
       " [5, 4, 8, 1, 3, 2, 9, 7, 6],\n",
       " [7, 2, 9, 5, 6, 4, 1, 3, 8],\n",
       " [1, 3, 6, 7, 9, 8, 2, 4, 5],\n",
       " [3, 7, 2, 6, 8, 9, 5, 1, 4],\n",
       " [8, 1, 4, 2, 5, 3, 7, 6, 9],\n",
       " [6, 9, 5, 4, 1, 7, 3, 8, 2]]"
      ]
     },
     "execution_count": 113,
     "metadata": {},
     "output_type": "execute_result"
    }
   ],
   "source": [
    "solve_second_phase(board2)"
   ]
  },
  {
   "cell_type": "code",
   "execution_count": 114,
   "id": "c2f93064-53b0-4f31-97b9-f8030cee2202",
   "metadata": {},
   "outputs": [
    {
     "data": {
      "text/plain": [
       "[[9, 5, 7, 6, 1, 3, 2, 8, 4],\n",
       " [4, 8, 3, 2, 5, 7, 1, 9, 6],\n",
       " [6, 1, 2, 8, 4, 9, 5, 3, 7],\n",
       " [1, 7, 8, 3, 6, 4, 9, 5, 2],\n",
       " [5, 2, 4, 9, 7, 1, 3, 6, 8],\n",
       " [3, 6, 9, 5, 2, 8, 7, 4, 1],\n",
       " [8, 4, 5, 7, 9, 2, 6, 1, 3],\n",
       " [2, 9, 1, 4, 3, 6, 8, 7, 5],\n",
       " [7, 3, 6, 1, 8, 5, 4, 2, 9]]"
      ]
     },
     "execution_count": 114,
     "metadata": {},
     "output_type": "execute_result"
    }
   ],
   "source": [
    "solve_second_phase(board3)"
   ]
  },
  {
   "cell_type": "code",
   "execution_count": 115,
   "id": "661c8b4b-c431-47dc-82d4-da64f9cd8ab9",
   "metadata": {},
   "outputs": [
    {
     "data": {
      "text/plain": [
       "[[2, 3, 7, 8, 4, 1, 5, 6, 9],\n",
       " [8, 9, 6, 7, 2, 5, 4, 3, 1],\n",
       " [5, 1, 4, 3, 9, 6, 2, 8, 7],\n",
       " [3, 6, 1, 5, 7, 9, 8, 4, 2],\n",
       " [4, 7, 5, 6, 8, 2, 1, 9, 3],\n",
       " [9, 2, 8, 1, 3, 4, 7, 5, 6],\n",
       " [6, 4, 2, 9, 1, 8, 3, 7, 5],\n",
       " [1, 5, 3, 4, 6, 7, 9, 2, 8],\n",
       " [7, 8, 9, 2, 5, 3, 6, 1, 4]]"
      ]
     },
     "execution_count": 115,
     "metadata": {},
     "output_type": "execute_result"
    }
   ],
   "source": [
    "solve_second_phase(boardX)"
   ]
  },
  {
   "cell_type": "code",
   "execution_count": 116,
   "id": "c9270668-393d-42d5-abb3-12c3a2db7ae1",
   "metadata": {},
   "outputs": [],
   "source": [
    "board0 = [\n",
    "    [0,0,0,0,0,0,0,0,0],\n",
    "    [0,0,0,0,0,0,0,0,0],\n",
    "    [0,0,0,0,0,0,0,0,0],\n",
    "    [0,0,0,0,0,0,0,0,0],\n",
    "    [0,0,0,0,0,0,0,0,0],\n",
    "    [0,0,0,0,0,0,0,0,0],\n",
    "    [0,0,0,0,0,0,0,0,0],\n",
    "    [0,0,0,0,0,0,0,0,0],\n",
    "    [0,0,0,0,0,0,0,0,0]\n",
    "]"
   ]
  },
  {
   "cell_type": "code",
   "execution_count": 117,
   "id": "a4bb3a7c-442f-4e98-902d-cf48b211c711",
   "metadata": {},
   "outputs": [
    {
     "data": {
      "text/plain": [
       "[[1, 2, 3, 4, 5, 6, 7, 8, 9],\n",
       " [4, 5, 6, 7, 8, 9, 1, 2, 3],\n",
       " [7, 8, 9, 1, 2, 3, 4, 5, 6],\n",
       " [2, 3, 1, 6, 7, 4, 8, 9, 5],\n",
       " [8, 7, 5, 9, 1, 2, 3, 6, 4],\n",
       " [6, 9, 4, 5, 3, 8, 2, 1, 7],\n",
       " [3, 1, 7, 2, 6, 5, 9, 4, 8],\n",
       " [5, 4, 2, 8, 9, 7, 6, 3, 1],\n",
       " [9, 6, 8, 3, 4, 1, 5, 7, 2]]"
      ]
     },
     "execution_count": 117,
     "metadata": {},
     "output_type": "execute_result"
    }
   ],
   "source": [
    "solve_second_phase(board0)"
   ]
  },
  {
   "cell_type": "markdown",
   "id": "5b9f5460-518a-4ecf-9343-83f513e20853",
   "metadata": {},
   "source": [
    "This phase guarantees solution for any valid Sudoku puzzle, combining **guessing** with **logic propagation**."
   ]
  }
 ],
 "metadata": {
  "kernelspec": {
   "display_name": "Python 3 (ipykernel)",
   "language": "python",
   "name": "python3"
  },
  "language_info": {
   "codemirror_mode": {
    "name": "ipython",
    "version": 3
   },
   "file_extension": ".py",
   "mimetype": "text/x-python",
   "name": "python",
   "nbconvert_exporter": "python",
   "pygments_lexer": "ipython3",
   "version": "3.12.4"
  }
 },
 "nbformat": 4,
 "nbformat_minor": 5
}
